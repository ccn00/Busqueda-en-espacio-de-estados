{
 "cells": [
  {
   "attachments": {},
   "cell_type": "markdown",
   "metadata": {
    "datalore": {
     "hide_input_from_viewers": false,
     "hide_output_from_viewers": false,
     "node_id": "PBlteYkCvShdtXwoWbtwkl",
     "type": "MD"
    }
   },
   "source": [
    "<br><br><br>\n",
    "<h1><font color=\"#B30033\" size=5>Intelligent Systems - Course 2022-2023</font></h1>\n",
    "\n",
    "\n",
    "\n",
    "<h1><font color=\"#B30033\" size=5>Lab 1: State Space Search</font></h1>\n",
    "\n",
    "\n",
    "<br>\n",
    "<div style=\"text-align: left\">\n",
    "<font color=\"#4E70BE\" size=3>Lecturers:</font><br>\n",
    "<ul>\n",
    "  <li><font color=\"#4E70BE\" size=3>Juan Carlos Alfaro Jiménez (JuanCarlos.Alfaro@uclm.es)</font><br></li>\n",
    "  <li><font color=\"#4E70BE\" size=3>Guillermo Tomás Fernández Martín (Guillermo.Fernandez@uclm.es)</font><br></li>\n",
    "  <li><font color=\"#4E70BE\" size=3>Mª Julia Flores Gallego (Julia.Flores@uclm.es)</font><br></li>\n",
    "  <li><font color=\"#4E70BE\" size=3> José Antonio Gámez Martín (Jose.Gamez@uclm.es)</font><br></li>\n",
    "  <li><font color=\"#4E70BE\" size=3> Ismael García Varea (Ismael.Garcia@uclm.es)</font><br></li>\n",
    "  <li><font color=\"#4E70BE\" size=3> Luis González Naharro (Luis.GNaharro@uclm.es)</font><br></li>\n",
    "</ul>\n",
    "</div>"
   ]
  },
  {
   "attachments": {},
   "cell_type": "markdown",
   "metadata": {
    "datalore": {
     "hide_input_from_viewers": false,
     "hide_output_from_viewers": false,
     "node_id": "BJiz7lonyeROocVlcYrKWu",
     "type": "MD"
    }
   },
   "source": [
    "--------------------\n",
    "## 1. Introduction\n",
    "\n",
    "In this assignment, we will put into practice the techniques for searching the state of spaces. To do that, some of the algorithms seen in units two and three will be implemented and used to solve a classical problem: searching paths on maps where the locations will be cities identified by their latitude and longitude values, as in most [geographical systems](https://en.wikipedia.org/wiki/Geographic_coordinate_system).\n",
    "\n",
    "We will also analyze and compare the performance of the algorithms by running them over different instances of the problem, and providing distinct initial and goal states."
   ]
  },
  {
   "attachments": {},
   "cell_type": "markdown",
   "metadata": {
    "datalore": {
     "hide_input_from_viewers": false,
     "hide_output_from_viewers": false,
     "node_id": "kf129lUYKXkYfl7kIPcDlq",
     "type": "MD"
    }
   },
   "source": [
    "## 2. Problem Description\n",
    "\n",
    "The concept of map we will use is simple: it can be represented by a graph with cities and undirected connections (that is, they work exactly the same in both ways), which indicate that there is a specific road between them two, which can be used for moving from one to the other in one action. Also, these edges will have associated a number of units, which tipycally represents the real/driving distance between the two cities.\n",
    "\n",
    "We opted to use realistic maps so that the cities are real, and the driving distances are also extracted from a navigation API. But the connections are established so that only some of them are taken.\n",
    "\n",
    "A map is a particular problem, but then we need to answer queries where there will be an initial state and a final state. In the most simple way, both will be the location/city. So to reach city B from A, we would aim at finding the finding the shortest path (smallest cost)."
   ]
  },
  {
   "attachments": {},
   "cell_type": "markdown",
   "metadata": {
    "datalore": {
     "hide_input_from_viewers": false,
     "hide_output_from_viewers": false,
     "node_id": "6gYL6VoT3okFgLpKvyyAq7",
     "type": "MD"
    }
   },
   "source": [
    "## 3. Assignment Development\n",
    "\n",
    "During the development of the assignment, you will be given a set of maps, in which you should perform a list of searches. The dimensionality, both in the number of cities and in their connectivity, will be variable, and your algorithms should be efficient enough to work properly in all of them. Some other scenarios (maps and searches) will be kept for the evaluation/correction/interview, so make your code general enough to load them easily."
   ]
  },
  {
   "attachments": {},
   "cell_type": "markdown",
   "metadata": {
    "datalore": {
     "hide_input_from_viewers": false,
     "hide_output_from_viewers": false,
     "node_id": "Rqvb46kFi9SG4pHnw0wuDN",
     "type": "MD"
    }
   },
   "source": [
    "### 3.1 Input Problems\n",
    "\n",
    "Every scenario will have associated a JSON file with the following structure: \n",
    "\n",
    "```JSON\n",
    "{\n",
    "    \"map\": {\n",
    "        \"cities\": [\n",
    "            {\n",
    "                \"id\": id_city_0,\n",
    "                \"name\": name_city_0,\n",
    "                \"lat\": latitude_city_0,\n",
    "                \"lon\": longitude_city_0\n",
    "            }\n",
    "        ],\n",
    "        \"roads\": [\n",
    "            {\n",
    "                \"origin\": origin_city_id,\n",
    "                \"destination\": destination_city_id,\n",
    "                \"distance\": road_distance\n",
    "            }\n",
    "        ]\n",
    "    },\n",
    "    \"departure\": departure_city_id,\n",
    "    \"goal\": goal_city_id\n",
    "}\n",
    "```\n",
    "\n",
    "There are three general keys in the JSON: \n",
    "\n",
    "- `map`: A dictionary that represents the map of the problem.\n",
    "- `departure`: The trip departure city id, this is, the initial state.\n",
    "- `goal`: The trip goal city id, this is, the end state.\n",
    "\n",
    "In the map dictionary, there are two keys: \n",
    "- `cities`: An array with the cities, this is, the nodes of the map.\n",
    "- `roads`: An array with the roads, this is, the connections between nodes.\n",
    "\n",
    "Finally, a city is represented as: \n",
    "- `id`: The id of the city, used for most operations.\n",
    "- `name`: The name of the city, used for representing the solution in a human readable way.\n",
    "- `lat`: The latitude of the city, used for plotting representations.\n",
    "- `lon`: The longitude of the city, used for plotting representations.\n",
    "\n",
    "And a road is represented as: \n",
    "- `origin`: The origin city id.\n",
    "-  `destination`: The destination city id.\n",
    "-  `distance`: The distance in kilometers using that road.\n",
    "\n",
    "The roads will be directed but the JSON will have symmetric roads, meaning that there will be a road from A to B and a second road from B to A."
   ]
  },
  {
   "attachments": {},
   "cell_type": "markdown",
   "metadata": {
    "datalore": {
     "hide_input_from_viewers": false,
     "hide_output_from_viewers": false,
     "node_id": "XqiqZwKKFJXYVAdvmfoLoK",
     "type": "MD"
    }
   },
   "source": [
    "## 4. Work plan"
   ]
  },
  {
   "attachments": {},
   "cell_type": "markdown",
   "metadata": {
    "datalore": {
     "hide_input_from_viewers": false,
     "hide_output_from_viewers": false,
     "node_id": "1ZIcSVP1ezhQkctCJW5drs",
     "type": "MD"
    }
   },
   "source": [
    "### 4.1 Problem Formalization and Examples\n",
    "\n",
    "First of all, path finding in maps must be formalized as a problem of search in the space of states, by defining its basic elements. All implementations must refer to search in graphs, so it is important to take into consideration that repeated states must be controlled. \n"
   ]
  },
  {
   "attachments": {},
   "cell_type": "markdown",
   "metadata": {
    "datalore": {
     "hide_input_from_viewers": false,
     "hide_output_from_viewers": false,
     "node_id": "UH2AvD5W1VRXdYUcOr5yNy",
     "type": "MD"
    }
   },
   "source": [
    "### 4.2 Implementation\n",
    "\n",
    "Below, you will have the class structure regarding the problem at hand. You will have to complete the following classes by implementing the algorithms studied in theory. Add all your imports in this cell to have the notebook properly organized."
   ]
  },
  {
   "cell_type": "code",
   "execution_count": 45,
   "metadata": {
    "datalore": {
     "hide_input_from_viewers": false,
     "hide_output_from_viewers": false,
     "node_id": "LHDrmfV2AEokwSeeKlokJo",
     "type": "CODE"
    }
   },
   "outputs": [],
   "source": [
    "# =============================================================================\n",
    "# Imports\n",
    "# =============================================================================\n",
    "\n",
    "# Standard\n",
    "import json\n",
    "import random\n",
    "import itertools\n",
    "from abc import ABC, abstractmethod\n",
    "\n",
    "#Añadidos por mi\n",
    "from collections import defaultdict\n",
    "\n",
    "# Third party\n",
    "import geopandas as gpd\n",
    "from shapely.geometry import Point"
   ]
  },
  {
   "attachments": {},
   "cell_type": "markdown",
   "metadata": {
    "datalore": {
     "hide_input_from_viewers": false,
     "hide_output_from_viewers": false,
     "node_id": "J5h8uPB1tfUnAiOhPBSn18",
     "type": "MD"
    }
   },
   "source": [
    "#### Class `Action` # Representación de carreteras en JSON\n",
    "This class provides the **representation of the actions** that will be performed by the traveler. An action is defined by the `origin` and `destination` of the trip, as well as the cost of the action.\n",
    "\n",
    "Methods you must add: \n",
    "\n",
    "- `__init__(self, args)`: Constructor of the class, with the necessary arguments\n",
    "\n",
    "Methods recommended: \n",
    "\n",
    "-- repr es mas utilizado cuando para el desarrollo y depuración\n",
    "- `__repr__(self)`: String representation of the objects. Useful to debug list of `Action`\n",
    "\n",
    "--str es mas utilizado para el usuario final \n",
    "- `__str__(self)`: Method used when `print(Action)` is called. Useful to debug single `Action`"
   ]
  },
  {
   "cell_type": "code",
   "execution_count": 46,
   "metadata": {
    "datalore": {
     "hide_input_from_viewers": false,
     "hide_output_from_viewers": false,
     "node_id": "ZwpERKf5dPhnwrKJwQmaEX",
     "type": "CODE"
    }
   },
   "outputs": [],
   "source": [
    "class Action:\n",
    "    def __init__(self, origin, destination, distance):\n",
    "        #Lista de acciones\n",
    "        self.origin = origin\n",
    "        self.destination = destination\n",
    "        self.distance = distance\n",
    "\n",
    "\n",
    "    # Lista de acciones\n",
    "    def __repr__(self):\n",
    "        return 'Accion(origin %s, destination %s, trip_cost %s)' % (self.origin, self.destination, self.distance)\n",
    "        # return f'origin: {self.origin} : {self.destination} Coste del viaje: {self.tripCost}'\n",
    "    # Devuelve una acción\n",
    "    def __str__(self):\n",
    "        return f'Ciudad origen: {self.origin} Ciudad destino: {self.destination} Distancia: {self.distance}'\n",
    "    "
   ]
  },
  {
   "attachments": {},
   "cell_type": "markdown",
   "metadata": {
    "datalore": {
     "hide_input_from_viewers": false,
     "hide_output_from_viewers": false,
     "node_id": "62XJpohcN4qthWMCpDI7bU",
     "type": "MD"
    }
   },
   "source": [
    "#### Class `State`\n",
    "\n",
    "This class provides the **representation of a state** in the search space. In this problem, a state is defined by the **city** in which the traveler is in a particular moment. Note that the map itself does not need to be part of the state given that it does not change during the search.\n",
    "\n",
    "Methods you must add: \n",
    "\n",
    "- `__init__(self, args)`: Constructor of the class, with the necessary arguments\n",
    "- `__eq__(self, other)`: Equals method. Used for hash table comparison\n",
    "- `__hash__(self)`: Hashing method. Used to generate unique hashes of the objects. Used for hash table.\n",
    "- `apply_action(self, args)`: given a valid `Action`, returns the new `State` generated from applying the `Action` to the current `State`. \n",
    "\n",
    "Methods recommended: \n",
    "\n",
    "- `__repr__(self)`: String representation of the objects. Useful to debug list of `State`\n",
    "- `__str__(self)`: Method used when `print(State)` is called. Useful to debug single `State`"
   ]
  },
  {
   "cell_type": "markdown",
   "metadata": {},
   "source": []
  },
  {
   "cell_type": "code",
   "execution_count": 47,
   "metadata": {
    "datalore": {
     "hide_input_from_viewers": false,
     "hide_output_from_viewers": false,
     "node_id": "FwwRstYIzlpP3l7jyGl4Y2",
     "type": "CODE"
    }
   },
   "outputs": [],
   "source": [
    "class State:\n",
    "\n",
    "    # 0: [origin 0, destination 1, trip_cost 96.9,\n",
    "    # origin 0, destination 5, trip_cost 72.1]\n",
    "\n",
    "    # 0 Es la ciudad actual\n",
    "    # [origin 0, destination 1, trip_cost 96.9, origin 0, destination 5, trip_cost 72.1] actionsES QUE SE PUEDEN REALIZAR DESDE ESTA CIUDAD\n",
    "\n",
    "\n",
    "    def __init__(self, city, actions = None):\n",
    "        # Ciudad en la que se encuentra\n",
    "        self.city = city\n",
    "        # Acciones que podemos realizar desde esta ciudad\n",
    "        self.actions = actions\n",
    "\n",
    "    #Sobreescribimos la funcion eq para que compare solo la ciudad    \n",
    "    def __eq__(self, other):\n",
    "        # Comprobamos si es una instancia por si hace otra pregunta para que no de un error si es comparado con otro tipo de dato\n",
    "        if isinstance(other, State):\n",
    "            return self.city == other.city  \n",
    "        return False\n",
    "\n",
    "    # Se debe crear la funcion hash puesto que nuestra clase sobreescribe la funcion eq. Al utilizar __eq__ en esta clase,\n",
    "    # se convierte unhashable, es decir, no seras capaz de usar objetos de tipo mapping, no se podran utilizar como claves de diccionario\n",
    "    # o como elementos de un conjunto.\n",
    "    def __hash__(self):\n",
    "        return hash(self.city)\n",
    "\n",
    "    # Dada una acción valida, devuelve un nuevo estado generado de aplicar la acciones del actual estado\n",
    "    def apply_action(self, actions):\n",
    "    # Comprobar que la acciones es valida\n",
    "        if actions not in self.actions:\n",
    "            raise ValueError('La accion no es valida')\n",
    "        # Devuelve un nuevo estado\n",
    "        return State(actions.destination , actions)    \n",
    "        \n",
    "    # Devuelve lista de estados\n",
    "    def __repr__(self):\n",
    "        return f'Esta en la ciudad {self.city}'\n",
    "        \n",
    "    # Devuelve estado\n",
    "    def __str__(self):\n",
    "        return f'Esta en la ciudad {self.city}'"
   ]
  },
  {
   "attachments": {},
   "cell_type": "markdown",
   "metadata": {
    "datalore": {
     "hide_input_from_viewers": false,
     "hide_output_from_viewers": false,
     "node_id": "ACSMHc4ZadYeB4Uddw4jIJ",
     "type": "MD"
    }
   },
   "source": [
    "#### Class `Node`. \n",
    "This class provides a **representation of a node** in the search graph. A `Node` is defined by the `State` it represents, its parent `Node` and the `Action` taken to reach the current `Node` from the parent `Node`. \n",
    "\n",
    "**It can also have any other attributes necessary for the search algorithms**.\n",
    "\n",
    "Methods you must add: \n",
    "\n",
    "- `__init__(self, args)`: Constructor of the class, with the necessary arguments\n",
    "- `__eq__(self, other)`: Equals method. Used for hash table comparison\n",
    "\n",
    "Methods recommended: \n",
    "\n",
    "- `__repr__(self)`: String representation of the objects. Useful to debug list of `Node`\n",
    "- `__str__(self)`: Method used when `print(Node)` is called. Useful to debug single `Node`"
   ]
  },
  {
   "cell_type": "code",
   "execution_count": 48,
   "metadata": {
    "datalore": {
     "hide_input_from_viewers": false,
     "hide_output_from_viewers": false,
     "node_id": "P8wym5fAfgxI3AnMS44gk6",
     "type": "CODE"
    },
    "tags": []
   },
   "outputs": [],
   "source": [
    "class Node:\n",
    "\n",
    "    def __init__(self, state, parent, action, path_cost, depth):\n",
    "\n",
    "        # Estado del espacio de estados que corresponde con el nodo\n",
    "        self.state = state\n",
    "\n",
    "        # Nodo en el árbol de búsqueda que ha generado este nodo\n",
    "        self.parent = parent\n",
    "\n",
    "        # Accion que se aplicará al padre para generar al nodo\n",
    "        self.action = action\n",
    "\n",
    "        # Coste denotado por g(n), de un camino desde el estado inicial al nodo, indicado por los punteros a los padres y la profundidad\n",
    "        self.path_cost = path_cost\n",
    "\n",
    "        # Profundidad del nodo en el árbol de búsqueda\n",
    "        self.depth = depth\n",
    "\n",
    "        \n",
    "    def __eq__(self, other):\n",
    "        if isinstance(other, Node):\n",
    "            return self.state == other.state\n",
    "        return False\n",
    "\n",
    "    def __hash__(self):\n",
    "        return hash(self.state)\n",
    "        \n",
    "    def __repr__(self):\n",
    "        return f'estado: {self.state}, Nodo padre: {self.parent}, Accion tomada: {self.action}, Coste: {self.path_cost}, Profundidad: {self.depth}'\n",
    "    def __str__(self):\n",
    "        pass\n",
    "    "
   ]
  },
  {
   "attachments": {},
   "cell_type": "markdown",
   "metadata": {
    "datalore": {
     "hide_input_from_viewers": false,
     "hide_output_from_viewers": false,
     "node_id": "HHXNQcGce3HFeQ2l1KHHUn",
     "type": "MD"
    }
   },
   "source": [
    "#### Class `Problem`\n",
    "This class provides the **representation of the search problem**. This class reads from a file an instance of the problem to be solved. It is defined by the `map`, the `initial_state` and the `final_city` as well as several auxiliary structures to plot the problem. This class must also generate all the `Actions` that can be taken in the problem. It is recommended to store them in a dictionary of the form `{'origin_city_id': [action_1, action_2, action_3, ...]}`. \n",
    "\n",
    "Methods you must add: \n",
    "\n",
    "- `__init__(self, args)`: Constructor of the class, with the necessary arguments\n",
    "- Method to generate the `Action` dictionary from the map\n",
    "- Method to check if a `State` is the goal state\n",
    "\n",
    "Methods recommended: \n",
    "\n",
    "- Method to get the `Actions` associated to a particular `Node`\n",
    "\n",
    "The class `Problem` also has an auxiliary method to plot the whole map and to plot the map with a solution of the problem formed by a list of actions. This can be called as `problem.plot_map()` for the whole map and all its connections, or as `problem.plot_map([action_1, action_2, ...])` to plot just the solution."
   ]
  },
  {
   "cell_type": "code",
   "execution_count": 49,
   "metadata": {
    "datalore": {
     "hide_input_from_viewers": false,
     "hide_output_from_viewers": false,
     "node_id": "j2HySDTv5sQpn1gSgXEn2T",
     "type": "CODE"
    }
   },
   "outputs": [],
   "source": [
    "class Problem:\n",
    "\n",
    "    def __init__(self, filename):\n",
    "        # Method to read the problem JSON file\n",
    "        with open(filename, 'r', encoding='utf8') as file:\n",
    "            problem = json.load(file)\n",
    "        \n",
    "        # Auxiliary structures for the plot_map function\n",
    "        self.cities = {city['id']: city for city in problem['map']['cities']}\n",
    "        self.gdf = gpd.GeoDataFrame(problem['map']['cities'])\n",
    "        self.gdf['Coordinates'] = list(zip(self.gdf.lon, self.gdf.lat))\n",
    "        self.gdf['Coordinates'] = self.gdf['Coordinates'].apply(Point)\n",
    "        self.gdf.set_geometry('Coordinates', inplace=True)\n",
    "        self.departure = problem['departure']\n",
    "        self.goal = problem['goal']\n",
    "        self.roads = problem['map']['roads']\n",
    "        self.diccionario_acciones = {}\n",
    "\n",
    "\n",
    "    def __str__(self):\n",
    "        return f'Ciudad origen: {self.cities[self.departure]} ciudad destino: {self.cities[self.goal]}'\n",
    "\n",
    "    # Diccionario de acciones que se pueden realizar\n",
    "    def create_action_dictionary(self):         \n",
    "        \n",
    "        if len(self.diccionario_acciones) == 0:                      #Comprobamos si diccionario esta vacio\n",
    "            for x in self.roads:\n",
    "                if x['origin'] not in self.diccionario_acciones:     #Si la clave todavia no esta la introducimos\n",
    "                    self.diccionario_acciones[x['origin']] = [Action(x.get('origin'), x.get('destination'), x.get('distance'))]\n",
    "                elif x['origin'] in self.diccionario_acciones:       #Si la clave ya esta en el dic añadimos el valor\n",
    "                    self.diccionario_acciones[x['origin']].append(Action(x.get('origin'), x.get('destination'), x.get('distance')))\n",
    "\n",
    "    \n",
    "    # Comprueba si la ciudad actual es la ciudad objetivo devuelve V o F\n",
    "    def comprueba_objetivo(self, estado):\n",
    "        return estado == self.goal\n",
    "\n",
    "    def get_actions(self, state):\n",
    "        # Devuelve las acciones que se pueden realizar desde el estado actual\n",
    "        if len(self.diccionario_acciones) == 0: \n",
    "            self.create_action_dictionary()\n",
    "        return self.diccionario_acciones[state]\n",
    "\n",
    "\n",
    "    def plot_map(self, action_list=None, world_name='Spain'):\n",
    "        world = gpd.read_file(gpd.datasets.get_path('naturalearth_lowres'))\n",
    "        city_ids = {self.cities[city]['name']: city for city in self.cities}\n",
    "        # We restrict to Spain.\n",
    "        ax = world[world.name == world_name].plot(\n",
    "            color='white', edgecolor='black',linewidth=3,figsize=(100,70))\n",
    "\n",
    "        self.gdf.plot(ax=ax, color='red',markersize=500)\n",
    "        for x, y, label in zip(self.gdf.Coordinates.x, self.gdf.Coordinates.y, self.gdf.name):\n",
    "            ax.annotate(f'{city_ids[label]} -- {label}', xy=(x, y), xytext=(8, 3), textcoords=\"offset points\",fontsize=60)\n",
    "        roads = itertools.chain.from_iterable(self.diccionario_acciones.values())\n",
    "\n",
    "        for road in roads:\n",
    "            slat = self.cities[road.origin]['lat']\n",
    "            slon = self.cities[road.origin]['lon']\n",
    "            dlat = self.cities[road.destination]['lat']\n",
    "            dlon = self.cities[road.destination]['lon']\n",
    "            if action_list and road in action_list:\n",
    "                color = 'red'\n",
    "                linewidth = 15\n",
    "            else:\n",
    "                color = 'lime'\n",
    "                linewidth = 5\n",
    "            ax.plot([slon , dlon], [slat, dlat], linewidth=linewidth, color=color, alpha=0.5)"
   ]
  },
  {
   "cell_type": "code",
   "execution_count": 50,
   "metadata": {},
   "outputs": [],
   "source": [
    "# p1 = Problem('problem.json')\n",
    "\n",
    "# p1.create_action_dictionary()"
   ]
  },
  {
   "cell_type": "code",
   "execution_count": 51,
   "metadata": {},
   "outputs": [],
   "source": [
    "\n",
    "# # a = p1.get_action(Node(p1.departure, None, None, 0, 0))\n",
    "# # print(a)\n",
    "# print(p1.diccionario_acciones)"
   ]
  },
  {
   "attachments": {},
   "cell_type": "markdown",
   "metadata": {
    "datalore": {
     "hide_input_from_viewers": false,
     "hide_output_from_viewers": false,
     "node_id": "fK3kyth7JPfZntSeLrczHQ",
     "type": "MD"
    }
   },
   "source": [
    "Vamos a tener un diccionario donde esten todas las acciones como las del ejemplo de abajo, y luego un metodo para obtener esas acciones.\n",
    "\n",
    "Para hacer el diccionario, si origen es igual a 0 declaramos esa ciudad como clave para el diccionario de accion. <br>\n",
    "La **Ciudad 0** puede viajar a **1 y a 5** <br>\n",
    "Ej: {Ciudad_0 : [viaja_1, viaja_5], Ciudad_1 : [viaja_0, viaja_5], Ciudad_2 : viaja_9,.......} <br>\n",
    "Ej con numeros: {0 : [1, 5], 1 : [0, 5], 2 : 9,....} <br>\n",
    "Cuando estemos en una ciudad, el estado actual será la clave del diccionario de acciones.\n",
    "\n",
    "Por tanto el metodo **get_action** elegira un valor el cual se le pasara. Supongamos que quiero saber donde se puede viajar desde la ciudad 2, se le pasa al get_action la ciudad que queremos ver y este metodo nos devuelve la lista de posibles ciudades a las que podemos viajar. <br>"
   ]
  },
  {
   "attachments": {},
   "cell_type": "markdown",
   "metadata": {
    "datalore": {
     "hide_input_from_viewers": false,
     "hide_output_from_viewers": false,
     "node_id": "3vVpQaw1MZ6RIfHnPFW6KR",
     "type": "MD"
    }
   },
   "source": [
    "#### Class `Search`\n",
    "\n",
    "The `Search` class is in abstract class that contains some attributes:\n",
    "- The `Problem` to solve.\n",
    "- The list of `open` nodes, i.e. nodes in the frontier, which data structure varies from the different algorithms.\n",
    "- The list of `closed` nodes to implement the graph search, which must be implemented using a `set` data structure.\n",
    "- The statistics from the algorithm, this is:\n",
    "    - The execution time (in ms) to obtain the solution.\n",
    "    - The cost of the solution.\n",
    "    - The number of generated nodes.\n",
    "    - The number of expanded nodes.\n",
    "    - The maximum number of nodes simultaneously stored in memory.\n",
    "    - The solution obtained (sequence of actions).\n",
    "\n",
    "This class also provides some abstract methods:\n",
    "- `insert_node(self, node, node_list)`: Method to insert a node in the proper place in the list. May vary from one algorithm to another.\n",
    "- `extract_node(self, node_list)`: Method to extract a node from the open node list. Can vary from one data structure to another.\n",
    "- `is_empty(self, node_list)`: Method to check if the open node list is empty. Can vary from one data structure to another.\n",
    "\n",
    "Methods you must add: \n",
    "- `__init__(self, args)`: Constructor of the class, with the necessary arguments\n",
    "- `get_successors(self, node)`: this method implements the successors function and should return a list with all the valid `Node` successors of a given `Node`. You must implement this method.\n",
    "- `do_search(self)`: this method implements the graph search you have studied in class. It also provides some statistics of the search process.\n",
    "- A method that returns a human readable list of cities from a list of actions. It should be used to return a readable solution instead of the raw list of actions. \n",
    "\n",
    "Note that these methods have to be compatible with both informed and uninformed search. This is why you have `insert_node`, `extract_node` and `is_empty`: as you will need to use different data structures for informed and uninformed algorithms, just by implementing those methods you can make the general `Search` class agnostic to the data structure underlying. "
   ]
  },
  {
   "cell_type": "code",
   "execution_count": 52,
   "metadata": {
    "datalore": {
     "hide_input_from_viewers": false,
     "hide_output_from_viewers": false,
     "node_id": "uB7GM0xj6RWrJqpxFC3Y4b",
     "type": "CODE"
    }
   },
   "outputs": [],
   "source": [
    "class Search(ABC):\n",
    "    def __init__(self, problem):\n",
    "        \n",
    "        self.problem = problem\n",
    "\n",
    "        self.frontier = None\n",
    "\n",
    "        # Lista de nodos explorados\n",
    "        self.explored = set()\n",
    "\n",
    "        # Lista de nodos para llegar a la solucion\n",
    "        self.solution = None\n",
    "\n",
    "        self.solution_string =  None\n",
    "\n",
    "        # Coste de la solucion en km\n",
    "        self.solution_cost = None\n",
    "\n",
    "        # Profundidad a la que se ha encontrado la solucion\n",
    "        self.solution_depth = None\n",
    "        \n",
    "        #self.solution_length = None\n",
    "        # Numero de nodos explorados\n",
    "        self.num_explored = None\n",
    "\n",
    "\n",
    "    def __str__(self):\n",
    "        return f' Solucion: {self.solution_string}\\n Coste de la solucion: {self.solution_cost} km\\n Profundidad de la solucion: {self.solution_depth}\\n Numero de nodos explorados: {self.num_explored}\\n Nodos explorados: {self.explored}'\n",
    "\n",
    "        # return f'Coste: {self.solution_cost} Profundidad: {self.solution_depth} Nodos explorados: {self.num_explored}, Longitud de la solucion: {self.solution_length}'\n",
    "\n",
    "    # La función EXPANDIR crea nuevos nodos, rellenando sus campos y usa la función\n",
    "    # SUCESOR del problema para crear los estados correspondientes.\n",
    "    def get_successors(self, node):\n",
    "\n",
    "        # Creamos una lista de nodos vacia\n",
    "        successors = []\n",
    "        # Recorremos la lista de acciones que se pueden realizar desde el nodo actual\n",
    "        for action in self.problem.get_actions(node.state):\n",
    "            # Guardamos el destino de la accion en una variable auxiliar para no tener que acceder al diccionario cada vez que la necesitemos\n",
    "            new_state = action.destination\n",
    "            # Creamos un nuevo nodo con el estado, el nodo padre, la accion, el coste y la profundidad\n",
    "            new_node = Node(new_state, node, action, node.depth + 1, node.path_cost + action.distance)\n",
    "            # Añadimos el nodo a la lista de nodos hijos\n",
    "            successors.append(new_node)\n",
    "        # Devolvemos la lista de nodos hijos\n",
    "        return successors\n",
    "        \n",
    "\n",
    "    def do_search(self):\n",
    "        # Creamos el nodo inicial\n",
    "        initial_node = Node(self.problem.departure, None, None, 0, 0)\n",
    "\n",
    "        # Añadimos el nodo inicial a la frontera\n",
    "        self.frontier.append(initial_node)\n",
    "\n",
    "        # Mientras la frontera no este vacia\n",
    "        while self.frontier:\n",
    "            # Sacamos el primer nodo de la frontera\n",
    "            node = self.frontier.pop()\n",
    "\n",
    "            # Si el nodo es el objetivo\n",
    "            if self.problem.comprueba_objetivo(node.state):\n",
    "                # Creamos la solucion\n",
    "                self.solution = self.get_solution(node)\n",
    "                # Calculamos el coste de la solucion\n",
    "                self.solution_cost = self.calculate_solution_cost()\n",
    "                # Calculamos la profundidad de la solucion\n",
    "                self.solution_depth = self.calculate_solution_depth()\n",
    "                # Calculamos el numero de nodos explorados\n",
    "                self.num_explored = len(self.explored)        \n",
    "                # Devolvemos la solucion\n",
    "                return self.solution\n",
    "            # Si el nodo no esta en la lista de explorados\n",
    "            if node.state not in self.explored:\n",
    "                # Añadimos el nodo a la lista de explorados\n",
    "                self.explored.add(node.state)\n",
    "                # Añadimos los nodos hijos a la frontera\n",
    "                self.frontier.extend(self.get_successors(node))\n",
    "\n",
    "        # Si la frontera esta vacia entonces no hay solucion\n",
    "        raise Exception('No solution found')\n",
    "\n",
    "\n",
    "    # Funcion que pasa la lista de acciones a string para poder imprimirlo\n",
    "    def solution_action2string(self):\n",
    "        action_string = ''\n",
    "        # No deberia llegar aqui pero por si acaso\n",
    "        if (self.solution is None):\n",
    "            raise Exception('Solucion vacia')\n",
    "        else:\n",
    "            for action in self.solution:\n",
    "                action_string += action.origin + ' -> ' + action.destination + '  '\n",
    "        self.solution_string = action_string\n",
    "\n",
    "\n",
    "    #  Funciones de calculo de la solucion \n",
    "    def calculate_solution_cost(self):\n",
    "        # Sumar todas las distancias de las acciones\n",
    "        return sum([action.distance for action in self.solution])\n",
    "\n",
    "    def calculate_solution_depth(self):\n",
    "        # Calcular numero de acciones a realizar\n",
    "        return len(self.solution) - 1  \n",
    "\n",
    "    def get_solution(self, node):\n",
    "        solution = []\n",
    "        while node.parent is not None:\n",
    "            solution.append(node.action)\n",
    "            node = node.parent\n",
    "        solution.reverse()\n",
    "        return solution\n",
    "\n",
    "    @abstractmethod\n",
    "    def insert_node(self, node):\n",
    "        self.frontier.append(node)\n",
    "\n",
    "    @abstractmethod\n",
    "    def extract_node(self, node_list):\n",
    "        return node_list.pop(0)\n",
    "\n",
    "    @abstractmethod\n",
    "    def is_empty(self, node_list):\n",
    "        return len(node_list) == 0\n"
   ]
  },
  {
   "attachments": {},
   "cell_type": "markdown",
   "metadata": {
    "datalore": {
     "hide_input_from_viewers": false,
     "hide_output_from_viewers": false,
     "node_id": "HZZ4QWyDfkUBAWrAuAst0g",
     "type": "MD"
    }
   },
   "source": [
    "#### Uninformed Search: `DepthFirst` and `BreadthFirst`\n",
    "\n",
    "These two classes also inherit from `Search` and will implement the depth first and breadth first. As explained before, if you have implemented `get_successors(self, node)` and `do_search(self)` properly, you just have to implement the `insert_node(self, node, node_list)`, `extract_node` and `is_empty` functions. "
   ]
  },
  {
   "cell_type": "code",
   "execution_count": 53,
   "metadata": {
    "datalore": {
     "hide_input_from_viewers": false,
     "hide_output_from_viewers": false,
     "node_id": "SvuYR3F6OUdf1OGIwRlbr2",
     "type": "CODE"
    }
   },
   "outputs": [],
   "source": [
    "class DepthFirstSearch(Search):\n",
    "    def __init__(self, problem):\n",
    "        super().__init__(problem)\n",
    "        self.frontier = []\n",
    "\n",
    "    # def __repr__(self):\n",
    "    #     return f'DepthFirstSearch({self.problem} : {self.solution}, {self.solution_cost}, {self.solution_depth}, {self.num_explored}, {self.explored}, {self.frontier})'\n",
    "\n",
    "    def insert_node(self, node):\n",
    "        self.frontier.append(node)\n",
    "\n",
    "    def extract_node(self):\n",
    "        return self.frontier.pop()\n",
    "\n",
    "    def is_empty(self):\n",
    "        return len(self.frontier) == 0\n",
    "\n"
   ]
  },
  {
   "cell_type": "code",
   "execution_count": 54,
   "metadata": {},
   "outputs": [],
   "source": [
    "p1 = Problem('problem.json')"
   ]
  },
  {
   "cell_type": "markdown",
   "metadata": {},
   "source": [
    "PROGRAMA"
   ]
  },
  {
   "cell_type": "code",
   "execution_count": 55,
   "metadata": {},
   "outputs": [
    {
     "name": "stdout",
     "output_type": "stream",
     "text": [
      "Depth First Search\n"
     ]
    },
    {
     "ename": "Exception",
     "evalue": "No solution found",
     "output_type": "error",
     "traceback": [
      "\u001b[1;31m---------------------------------------------------------------------------\u001b[0m",
      "\u001b[1;31mException\u001b[0m                                 Traceback (most recent call last)",
      "Cell \u001b[1;32mIn [55], line 3\u001b[0m\n\u001b[0;32m      1\u001b[0m \u001b[39mprint\u001b[39m(\u001b[39m'\u001b[39m\u001b[39mDepth First Search\u001b[39m\u001b[39m'\u001b[39m)\n\u001b[0;32m      2\u001b[0m dfs \u001b[39m=\u001b[39m DepthFirstSearch(p1)\n\u001b[1;32m----> 3\u001b[0m solution \u001b[39m=\u001b[39m dfs\u001b[39m.\u001b[39;49mdo_search()\n\u001b[0;32m      4\u001b[0m \u001b[39mprint\u001b[39m(dfs)\n",
      "Cell \u001b[1;32mIn [52], line 82\u001b[0m, in \u001b[0;36mSearch.do_search\u001b[1;34m(self)\u001b[0m\n\u001b[0;32m     79\u001b[0m         \u001b[39mself\u001b[39m\u001b[39m.\u001b[39mfrontier\u001b[39m.\u001b[39mextend(\u001b[39mself\u001b[39m\u001b[39m.\u001b[39mget_successors(node))\n\u001b[0;32m     81\u001b[0m \u001b[39m# Si la frontera esta vacia entonces no hay solucion\u001b[39;00m\n\u001b[1;32m---> 82\u001b[0m \u001b[39mraise\u001b[39;00m \u001b[39mException\u001b[39;00m(\u001b[39m'\u001b[39m\u001b[39mNo solution found\u001b[39m\u001b[39m'\u001b[39m)\n",
      "\u001b[1;31mException\u001b[0m: No solution found"
     ]
    }
   ],
   "source": [
    "print('Depth First Search')\n",
    "dfs = DepthFirstSearch(p1)\n",
    "solution = dfs.do_search()\n",
    "print(dfs)"
   ]
  },
  {
   "cell_type": "code",
   "execution_count": null,
   "metadata": {},
   "outputs": [],
   "source": []
  },
  {
   "cell_type": "code",
   "execution_count": null,
   "metadata": {
    "datalore": {
     "hide_input_from_viewers": false,
     "hide_output_from_viewers": false,
     "node_id": "xf8gjy5JKmNdBZLiopYWl5",
     "type": "CODE"
    }
   },
   "outputs": [],
   "source": [
    "class BreadthFirst(Search):\n",
    "    pass\n",
    "        \n",
    "    "
   ]
  },
  {
   "attachments": {},
   "cell_type": "markdown",
   "metadata": {
    "datalore": {
     "hide_input_from_viewers": false,
     "hide_output_from_viewers": false,
     "node_id": "AcYTGveTFf9Ke7xaaxNWz2",
     "type": "MD"
    }
   },
   "source": [
    "#### Informed Search: `BestFirst` and `AStar`\n",
    "\n",
    "These two classes also inherit from `Search` and will implement the best first and $A^*$ search strategies, respectively. \n",
    "\n",
    "The main difference between these three algorithms is the way in which the cost function for a specific node ($f(n) = g(n) + h(n)$) is computed. Assuming that $g(n)$ is the real accumulated cost from the **initial state** to `n.state` and that $h(n)$ is the heuristic cost from `n.state` state to the **goal state**, $f(n)$ is computed as:\n",
    "\n",
    "- Best First: $f(n) = h(n)$\n",
    "- A$^*$: $f(n) = g(n) + h(n)$\n",
    "\n",
    "As before, once the `get_successors(self,node)` and `do_search(self)` methods have been implemented in the parent class, we have to implement the `insert_node(self, node)` method, which will insert the `node` into the `self.open` list of nodes according to the corresponding values of the cost function, as well as the `extract_node` and `is_empty` methods.\n",
    "\n",
    "You also have to implement a new `__init__(self, args)` constructor so that you can expand the behavior of the informed search algorithms with a `Heuristic` and any other methods you need.\n",
    "\n",
    "It is greatly encouraged that you use the [Priority Queue](https://docs.python.org/3/library/queue.html#queue.PriorityQueue) structure for the informed search, as it will be an efficient structure to have your nodes ordered, rather than having to sort the list every single time. "
   ]
  },
  {
   "cell_type": "code",
   "execution_count": null,
   "metadata": {
    "datalore": {
     "hide_input_from_viewers": false,
     "hide_output_from_viewers": false,
     "node_id": "8hUQWHQVnNxvAYXqFn4CLb",
     "type": "CODE"
    }
   },
   "outputs": [],
   "source": [
    "class BestFirst(Search):\n",
    "    def __init__(self, parent_args, child_args):\n",
    "        # Calling the constructor of the parent class\n",
    "        # with its corresponding arguments\n",
    "        super().__init__(parent_args)\n",
    "\n",
    "        #TODO: Add your new code here"
   ]
  },
  {
   "cell_type": "code",
   "execution_count": null,
   "metadata": {
    "datalore": {
     "hide_input_from_viewers": false,
     "hide_output_from_viewers": false,
     "node_id": "sfPToN8OzveLdHRAtQiTaw",
     "type": "CODE"
    }
   },
   "outputs": [],
   "source": [
    "class AStar(Search):\n",
    "    def __init__(self, parent_args, child_args):\n",
    "        # Calling the constructor of the parent class\n",
    "        # with its corresponding arguments\n",
    "        super().__init__(parent_args)\n",
    "\n",
    "        #TODO: Add your new code here"
   ]
  },
  {
   "attachments": {},
   "cell_type": "markdown",
   "metadata": {
    "datalore": {
     "hide_input_from_viewers": false,
     "hide_output_from_viewers": false,
     "node_id": "9Of8mZ5frLPJQI0ZBSchHv",
     "type": "MD"
    }
   },
   "source": [
    "#### Heuristics\n",
    "\n",
    "An informed search must have an heuristic, and the way to implement is by creating a class for each heuristic. The different classes must inherit from the abstract class `Heuristic` provided here. They must implement the `get_hcost(self, node)` method to return the heuristic of a node. They can also implement a constructor where some information about the problem is given to compute that heuristic."
   ]
  },
  {
   "cell_type": "code",
   "execution_count": null,
   "metadata": {
    "datalore": {
     "hide_input_from_viewers": false,
     "hide_output_from_viewers": false,
     "node_id": "kFsDFDU1Kp6ZGPnSEOxw9o",
     "type": "CODE"
    }
   },
   "outputs": [],
   "source": [
    "class Heuristic(ABC):   \n",
    "    @abstractmethod\n",
    "    def get_hcost(self, node):\n",
    "        pass"
   ]
  },
  {
   "attachments": {},
   "cell_type": "markdown",
   "metadata": {
    "datalore": {
     "hide_input_from_viewers": false,
     "hide_output_from_viewers": false,
     "node_id": "huuMhAxTuk2xSkB6y6OP9a",
     "type": "MD"
    }
   },
   "source": [
    "As an example, the optimistic heuristic is given below. Take into account that you can add information to your heuristic by adding elements in the constructor of the class."
   ]
  },
  {
   "cell_type": "code",
   "execution_count": null,
   "metadata": {
    "datalore": {
     "hide_input_from_viewers": false,
     "hide_output_from_viewers": false,
     "node_id": "Wt4KB5MBm8QodrT8L7yryY",
     "type": "CODE"
    }
   },
   "outputs": [],
   "source": [
    "class OptimisticHeuristic(Heuristic):\n",
    "    def __init__(self, info):\n",
    "        self.info = info\n",
    "    \n",
    "    def get_hcost(self, node):\n",
    "        return 0"
   ]
  },
  {
   "attachments": {},
   "cell_type": "markdown",
   "metadata": {
    "datalore": {
     "hide_input_from_viewers": false,
     "hide_output_from_viewers": false,
     "node_id": "6q3uoKPoKLFZnX2wHpx2mu",
     "type": "MD"
    }
   },
   "source": [
    "### 4.3 Study and improvement of the algorithms\n",
    "Once the algorithms have been implemented, you must study their performance. In order to do that,\n",
    "you must compare the quality of the solutions obtained, as well as the number of expanded nodes for\n",
    "instances of different sizes. Factors as the maximum size of problem that can be solved (without memory\n",
    "overflow), or the effect of using more complex scenarios, are also important. Moreover, you can propose\n",
    "alternative implementations that increase the efficiency of the algorithms."
   ]
  },
  {
   "attachments": {},
   "cell_type": "markdown",
   "metadata": {
    "datalore": {
     "hide_input_from_viewers": false,
     "hide_output_from_viewers": false,
     "node_id": "TN8nQpEQOYIQynu67Jy1ln",
     "type": "MD"
    }
   },
   "source": [
    "### 4.4 Report\n",
    "Besides the notebook containing the implementation, the assignment consists in the elaboration of a report, which will have a later deadline, but you should be developing when your code starts solving problems\n",
    "correctly. \n",
    "\n",
    "In particular, among other issues that the student deems of interest to discuss, it should include:\n",
    "\n",
    "- A brief description of the problem, a description of the implementation, the performance evaluation, and the description of improvements if they exist. \n",
    "- The formalization of the problem.\n",
    "- For informed search algorithms one (or several) heuristic functions must be provided. Apart from their description and motivation, an analysis should be included indicating whether the proposed heuristic is considered admissible and/or consistent.\n",
    "- The study of performance of implemented algorithms should be based on testing the algorithms over several instances, presenting tables or graphics that summarize results (do not include screenshots).\n",
    "\n",
    "The memory must not include figures with source code, unless this is necessary to explain some key concept (data structures, improvements in efficiency, etc). In such cases, you are allowed to include\n",
    "properly formatted pseudocode."
   ]
  },
  {
   "attachments": {},
   "cell_type": "markdown",
   "metadata": {
    "datalore": {
     "hide_input_from_viewers": false,
     "hide_output_from_viewers": false,
     "node_id": "Tinwe1v9Wx9ZaC9NcMPB1a",
     "type": "MD"
    }
   },
   "source": [
    "## 5. Submission and evaluation\n",
    "The work must be made in pairs, although in some exceptional cases you can present it individually. The deadline for submission is 6th November, 2022. Interviews and evaluations will be in the following week. \n",
    "\n",
    "You must work on your notebook on the Datalore project, as the day of the deadline it will run some automated tests and collect the notebooks in the state they are. No changes will be allowed after the deadline. \n",
    "\n",
    "Some considerations related to the evaluation:\n",
    "- This is 30% of the lab grade. Lab2 (70%) needs the resolution of this part. Late submissions\n",
    "(together with lab2) or failed assignments will be evaluated globally but with a penalization of factor\n",
    "0.9, as the students can only get 90% of the lab grade.\n",
    "- Attendance with performance to the lab not only will provide half of the participation grade, but\n",
    "it will also be the best foundation for successful resolution of the labs.\n",
    "- The assignment will be evaluated during an individual interview with the professors. Dates for the\n",
    "interviews will be published with some advance in Campus Virtual.\n",
    "- We will provide a set of preliminary test cases (several maps and queries) that must be correctly\n",
    "solved. Otherwise, the assignment will be considered as failed.\n",
    "- In order to get a mark in the assignment you will have to answer, individually, a set of basic\n",
    "questions about the code organization.\n",
    "- In the non-continuous evaluation we will require the implementation of the same strategies plus\n",
    "these extra two: Depth-limited search and Iterative deepening search."
   ]
  },
  {
   "cell_type": "code",
   "execution_count": null,
   "metadata": {
    "datalore": {
     "hide_input_from_viewers": false,
     "hide_output_from_viewers": false,
     "node_id": "QR24FQbSFQ8vf4Vuc9n3d5",
     "type": "CODE"
    }
   },
   "outputs": [],
   "source": []
  }
 ],
 "metadata": {
  "datalore": {
   "base_environment": "default",
   "computation_mode": "JUPYTER",
   "package_manager": "pip",
   "packages": [
    {
     "name": "pqueue",
     "source": "PIP",
     "version": "0.1.7"
    },
    {
     "name": "geopy",
     "source": "PIP",
     "version": "2.2.0"
    }
   ],
   "version": 1
  },
  "kernelspec": {
   "display_name": "Python 3.10.8 64-bit (microsoft store)",
   "language": "python",
   "name": "python3"
  },
  "language_info": {
   "codemirror_mode": {
    "name": "ipython",
    "version": 3
   },
   "file_extension": ".py",
   "mimetype": "text/x-python",
   "name": "python",
   "nbconvert_exporter": "python",
   "pygments_lexer": "ipython3",
   "version": "3.10.8"
  },
  "vscode": {
   "interpreter": {
    "hash": "410621c85258efa0ea47ad915638abc1a4a3304f33944a818dfb0fc7cd918640"
   }
  }
 },
 "nbformat": 4,
 "nbformat_minor": 4
}
