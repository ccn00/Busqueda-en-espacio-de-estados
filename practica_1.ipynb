{
 "cells": [
  {
   "attachments": {},
   "cell_type": "markdown",
   "metadata": {
    "datalore": {
     "hide_input_from_viewers": false,
     "hide_output_from_viewers": false,
     "node_id": "PBlteYkCvShdtXwoWbtwkl",
     "type": "MD"
    }
   },
   "source": [
    "<br><br><br>\n",
    "<h1><font color=\"#B30033\" size=5>Intelligent Systems - Course 2022-2023</font></h1>\n",
    "\n",
    "\n",
    "\n",
    "<h1><font color=\"#B30033\" size=5>Lab 1: State Space Search</font></h1>\n",
    "\n",
    "\n",
    "<br>\n",
    "<div style=\"text-align: left\">\n",
    "<font color=\"#4E70BE\" size=3>Lecturers:</font><br>\n",
    "<ul>\n",
    "  <li><font color=\"#4E70BE\" size=3>Juan Carlos Alfaro Jiménez (JuanCarlos.Alfaro@uclm.es)</font><br></li>\n",
    "  <li><font color=\"#4E70BE\" size=3>Guillermo Tomás Fernández Martín (Guillermo.Fernandez@uclm.es)</font><br></li>\n",
    "  <li><font color=\"#4E70BE\" size=3>Mª Julia Flores Gallego (Julia.Flores@uclm.es)</font><br></li>\n",
    "  <li><font color=\"#4E70BE\" size=3> José Antonio Gámez Martín (Jose.Gamez@uclm.es)</font><br></li>\n",
    "  <li><font color=\"#4E70BE\" size=3> Ismael García Varea (Ismael.Garcia@uclm.es)</font><br></li>\n",
    "  <li><font color=\"#4E70BE\" size=3> Luis González Naharro (Luis.GNaharro@uclm.es)</font><br></li>\n",
    "</ul>\n",
    "</div>"
   ]
  },
  {
   "attachments": {},
   "cell_type": "markdown",
   "metadata": {
    "datalore": {
     "hide_input_from_viewers": false,
     "hide_output_from_viewers": false,
     "node_id": "BJiz7lonyeROocVlcYrKWu",
     "type": "MD"
    }
   },
   "source": [
    "--------------------\n",
    "## 1. Introduction\n",
    "\n",
    "In this assignment, we will put into practice the techniques for searching the state of spaces. To do that, some of the algorithms seen in units two and three will be implemented and used to solve a classical problem: searching paths on maps where the locations will be cities identified by their latitude and longitude values, as in most [geographical systems](https://en.wikipedia.org/wiki/Geographic_coordinate_system).\n",
    "\n",
    "We will also analyze and compare the performance of the algorithms by running them over different instances of the problem, and providing distinct initial and goal states."
   ]
  },
  {
   "attachments": {},
   "cell_type": "markdown",
   "metadata": {
    "datalore": {
     "hide_input_from_viewers": false,
     "hide_output_from_viewers": false,
     "node_id": "kf129lUYKXkYfl7kIPcDlq",
     "type": "MD"
    }
   },
   "source": [
    "## 2. Problem Description\n",
    "\n",
    "The concept of map we will use is simple: it can be represented by a graph with cities and undirected connections (that is, they work exactly the same in both ways), which indicate that there is a specific road between them two, which can be used for moving from one to the other in one action. Also, these edges will have associated a number of units, which tipycally represents the real/driving distance between the two cities.\n",
    "\n",
    "We opted to use realistic maps so that the cities are real, and the driving distances are also extracted from a navigation API. But the connections are established so that only some of them are taken.\n",
    "\n",
    "A map is a particular problem, but then we need to answer queries where there will be an initial state and a final state. In the most simple way, both will be the location/city. So to reach city B from A, we would aim at finding the finding the shortest path (smallest cost)."
   ]
  },
  {
   "attachments": {},
   "cell_type": "markdown",
   "metadata": {
    "datalore": {
     "hide_input_from_viewers": false,
     "hide_output_from_viewers": false,
     "node_id": "6gYL6VoT3okFgLpKvyyAq7",
     "type": "MD"
    }
   },
   "source": [
    "## 3. Assignment Development\n",
    "\n",
    "During the development of the assignment, you will be given a set of maps, in which you should perform a list of searches. The dimensionality, both in the number of cities and in their connectivity, will be variable, and your algorithms should be efficient enough to work properly in all of them. Some other scenarios (maps and searches) will be kept for the evaluation/correction/interview, so make your code general enough to load them easily."
   ]
  },
  {
   "attachments": {},
   "cell_type": "markdown",
   "metadata": {
    "datalore": {
     "hide_input_from_viewers": false,
     "hide_output_from_viewers": false,
     "node_id": "Rqvb46kFi9SG4pHnw0wuDN",
     "type": "MD"
    }
   },
   "source": [
    "### 3.1 Input Problems\n",
    "\n",
    "Every scenario will have associated a JSON file with the following structure: \n",
    "\n",
    "```JSON\n",
    "{\n",
    "    \"map\": {\n",
    "        \"cities\": [\n",
    "            {\n",
    "                \"id\": id_city_0,\n",
    "                \"name\": name_city_0,\n",
    "                \"lat\": latitude_city_0,\n",
    "                \"lon\": longitude_city_0\n",
    "            }\n",
    "        ],\n",
    "        \"roads\": [\n",
    "            {\n",
    "                \"origin\": origin_city_id,\n",
    "                \"destination\": destination_city_id,\n",
    "                \"distance\": road_distance\n",
    "            }\n",
    "        ]\n",
    "    },\n",
    "    \"departure\": departure_city_id,\n",
    "    \"goal\": goal_city_id\n",
    "}\n",
    "```\n",
    "\n",
    "There are three general keys in the JSON: \n",
    "\n",
    "- `map`: A dictionary that represents the map of the problem.\n",
    "- `departure`: The trip departure city id, this is, the initial state.\n",
    "- `goal`: The trip goal city id, this is, the end state.\n",
    "\n",
    "In the map dictionary, there are two keys: \n",
    "- `cities`: An array with the cities, this is, the nodes of the map.\n",
    "- `roads`: An array with the roads, this is, the connections between nodes.\n",
    "\n",
    "Finally, a city is represented as: \n",
    "- `id`: The id of the city, used for most operations.\n",
    "- `name`: The name of the city, used for representing the solution in a human readable way.\n",
    "- `lat`: The latitude of the city, used for plotting representations.\n",
    "- `lon`: The longitude of the city, used for plotting representations.\n",
    "\n",
    "And a road is represented as: \n",
    "- `origin`: The origin city id.\n",
    "-  `destination`: The destination city id.\n",
    "-  `distance`: The distance in kilometers using that road.\n",
    "\n",
    "The roads will be directed but the JSON will have symmetric roads, meaning that there will be a road from A to B and a second road from B to A."
   ]
  },
  {
   "attachments": {},
   "cell_type": "markdown",
   "metadata": {
    "datalore": {
     "hide_input_from_viewers": false,
     "hide_output_from_viewers": false,
     "node_id": "XqiqZwKKFJXYVAdvmfoLoK",
     "type": "MD"
    }
   },
   "source": [
    "## 4. Work plan"
   ]
  },
  {
   "attachments": {},
   "cell_type": "markdown",
   "metadata": {
    "datalore": {
     "hide_input_from_viewers": false,
     "hide_output_from_viewers": false,
     "node_id": "1ZIcSVP1ezhQkctCJW5drs",
     "type": "MD"
    }
   },
   "source": [
    "### 4.1 Problem Formalization and Examples\n",
    "\n",
    "First of all, path finding in maps must be formalized as a problem of search in the space of states, by defining its basic elements. All implementations must refer to search in graphs, so it is important to take into consideration that repeated states must be controlled. \n"
   ]
  },
  {
   "attachments": {},
   "cell_type": "markdown",
   "metadata": {
    "datalore": {
     "hide_input_from_viewers": false,
     "hide_output_from_viewers": false,
     "node_id": "UH2AvD5W1VRXdYUcOr5yNy",
     "type": "MD"
    }
   },
   "source": [
    "### 4.2 Implementation\n",
    "\n",
    "Below, you will have the class structure regarding the problem at hand. You will have to complete the following classes by implementing the algorithms studied in theory. Add all your imports in this cell to have the notebook properly organized."
   ]
  },
  {
   "cell_type": "code",
   "execution_count": 24,
   "metadata": {
    "datalore": {
     "hide_input_from_viewers": false,
     "hide_output_from_viewers": false,
     "node_id": "LHDrmfV2AEokwSeeKlokJo",
     "type": "CODE"
    }
   },
   "outputs": [],
   "source": [
    "# =============================================================================\n",
    "# Imports\n",
    "# =============================================================================\n",
    "\n",
    "# Standard\n",
    "import json\n",
    "import random\n",
    "import itertools\n",
    "from abc import ABC, abstractmethod\n",
    "import math\n",
    "\n",
    "#Añadidos por mi\n",
    "from collections import defaultdict\n",
    "import matplotlib.pyplot as plt\n",
    "\n",
    "from time import perf_counter\n",
    "# Third party\n",
    "import geopandas as gpd\n",
    "from shapely.geometry import Point"
   ]
  },
  {
   "attachments": {},
   "cell_type": "markdown",
   "metadata": {
    "datalore": {
     "hide_input_from_viewers": false,
     "hide_output_from_viewers": false,
     "node_id": "J5h8uPB1tfUnAiOhPBSn18",
     "type": "MD"
    }
   },
   "source": [
    "#### Class `Action` # Representación de carreteras en JSON\n",
    "This class provides the **representation of the actions** that will be performed by the traveler. An action is defined by the `origin` and `destination` of the trip, as well as the cost of the action.\n",
    "\n",
    "Methods you must add: \n",
    "\n",
    "- `__init__(self, args)`: Constructor of the class, with the necessary arguments\n",
    "\n",
    "Methods recommended: \n",
    "\n",
    "-- repr es mas utilizado cuando para el desarrollo y depuración\n",
    "- `__repr__(self)`: String representation of the objects. Useful to debug list of `Action`\n",
    "\n",
    "--str es mas utilizado para el usuario final \n",
    "- `__str__(self)`: Method used when `print(Action)` is called. Useful to debug single `Action`"
   ]
  },
  {
   "cell_type": "code",
   "execution_count": 25,
   "metadata": {
    "datalore": {
     "hide_input_from_viewers": false,
     "hide_output_from_viewers": false,
     "node_id": "ZwpERKf5dPhnwrKJwQmaEX",
     "type": "CODE"
    }
   },
   "outputs": [],
   "source": [
    "class Action:\n",
    "    def __init__(self, origin, destination, distance):\n",
    "        #Lista de acciones\n",
    "        self.origin = origin\n",
    "        self.destination = destination\n",
    "        self.distance = distance\n",
    "\n",
    "\n",
    "    # Lista de acciones\n",
    "    def __repr__(self):\n",
    "        return 'Action(origin %s, destination %s, trip_cost %s)' % (self.origin, self.destination, self.distance)\n",
    "        # return f'origin: {self.origin} : {self.destination} Coste del viaje: {self.tripCost}'\n",
    "    # Devuelve una acción\n",
    "    def __str__(self):\n",
    "        return f'Ciudad origen: {self.origin} Ciudad destino: {self.destination} Distancia: {self.distance}'\n",
    "    "
   ]
  },
  {
   "attachments": {},
   "cell_type": "markdown",
   "metadata": {
    "datalore": {
     "hide_input_from_viewers": false,
     "hide_output_from_viewers": false,
     "node_id": "62XJpohcN4qthWMCpDI7bU",
     "type": "MD"
    }
   },
   "source": [
    "#### Class `State`\n",
    "\n",
    "This class provides the **representation of a state** in the search space. In this problem, a state is defined by the **city** in which the traveler is in a particular moment. Note that the map itself does not need to be part of the state given that it does not change during the search.\n",
    "\n",
    "Methods you must add: \n",
    "\n",
    "- `__init__(self, args)`: Constructor of the class, with the necessary arguments\n",
    "- `__eq__(self, other)`: Equals method. Used for hash table comparison\n",
    "- `__hash__(self)`: Hashing method. Used to generate unique hashes of the objects. Used for hash table.\n",
    "- `apply_action(self, args)`: given a valid `Action`, returns the new `State` generated from applying the `Action` to the current `State`. \n",
    "\n",
    "Methods recommended: \n",
    "\n",
    "- `__repr__(self)`: String representation of the objects. Useful to debug list of `State`\n",
    "- `__str__(self)`: Method used when `print(State)` is called. Useful to debug single `State`"
   ]
  },
  {
   "cell_type": "markdown",
   "metadata": {},
   "source": []
  },
  {
   "cell_type": "code",
   "execution_count": 26,
   "metadata": {
    "datalore": {
     "hide_input_from_viewers": false,
     "hide_output_from_viewers": false,
     "node_id": "FwwRstYIzlpP3l7jyGl4Y2",
     "type": "CODE"
    }
   },
   "outputs": [],
   "source": [
    "class State:\n",
    "\n",
    "    # 0: [origin 0, destination 1, trip_cost 96.9,\n",
    "    # origin 0, destination 5, trip_cost 72.1]\n",
    "\n",
    "    # 0 Es la ciudad actual\n",
    "    # [origin 0, destination 1, trip_cost 96.9, origin 0, destination 5, trip_cost 72.1] actionsES QUE SE PUEDEN REALIZAR DESDE ESTA CIUDAD\n",
    "\n",
    "\n",
    "    def __init__(self, city, actions = None):\n",
    "        # Ciudad en la que se encuentra\n",
    "        self.city = city\n",
    "        # Acciones que podemos realizar desde esta ciudad\n",
    "        self.actions = actions\n",
    "\n",
    "    #Sobreescribimos la funcion eq para que compare solo la ciudad    \n",
    "    def __eq__(self, other):\n",
    "        # Comprobamos si es una instancia por si hace otra pregunta para que no de un error si es comparado con otro tipo de dato\n",
    "        if isinstance(other, State):\n",
    "            return self.city == other.city  \n",
    "        return False\n",
    "\n",
    "    # Se debe crear la funcion hash puesto que nuestra clase sobreescribe la funcion eq. Al utilizar __eq__ en esta clase,\n",
    "    # se convierte unhashable, es decir, no seras capaz de usar objetos de tipo mapping, no se podran utilizar como claves de diccionario\n",
    "    # o como elementos de un conjunto.\n",
    "    def __hash__(self):\n",
    "        return hash(self.city)\n",
    "\n",
    "    # Dada una acción valida, devuelve un nuevo estado generado de aplicar la acciones del actual estado\n",
    "    def apply_action(self, actions):\n",
    "    # Comprobar que la acciones es valida\n",
    "        if actions not in self.actions:\n",
    "            raise ValueError('La accion no es valida')\n",
    "        # Devuelve un nuevo estado\n",
    "        return State(actions.destination , actions)    \n",
    "        \n",
    "    # Devuelve lista de estados\n",
    "    def __repr__(self):\n",
    "        return f'Esta en la ciudad {self.city}'\n",
    "        \n",
    "    # Devuelve estado\n",
    "    def __str__(self):\n",
    "        return f'Esta en la ciudad {self.city}'"
   ]
  },
  {
   "attachments": {},
   "cell_type": "markdown",
   "metadata": {
    "datalore": {
     "hide_input_from_viewers": false,
     "hide_output_from_viewers": false,
     "node_id": "ACSMHc4ZadYeB4Uddw4jIJ",
     "type": "MD"
    }
   },
   "source": [
    "#### Class `Node`. \n",
    "This class provides a **representation of a node** in the search graph. A `Node` is defined by the `State` it represents, its parent `Node` and the `Action` taken to reach the current `Node` from the parent `Node`. \n",
    "\n",
    "**It can also have any other attributes necessary for the search algorithms**.\n",
    "\n",
    "Methods you must add: \n",
    "\n",
    "- `__init__(self, args)`: Constructor of the class, with the necessary arguments\n",
    "- `__eq__(self, other)`: Equals method. Used for hash table comparison\n",
    "\n",
    "Methods recommended: \n",
    "\n",
    "- `__repr__(self)`: String representation of the objects. Useful to debug list of `Node`\n",
    "- `__str__(self)`: Method used when `print(Node)` is called. Useful to debug single `Node`"
   ]
  },
  {
   "cell_type": "code",
   "execution_count": 27,
   "metadata": {
    "datalore": {
     "hide_input_from_viewers": false,
     "hide_output_from_viewers": false,
     "node_id": "P8wym5fAfgxI3AnMS44gk6",
     "type": "CODE"
    },
    "tags": []
   },
   "outputs": [],
   "source": [
    "class Node:\n",
    "\n",
    "    def __init__(self, state, parent, action, path_cost, depth):\n",
    "\n",
    "        # Estado del espacio de estados que corresponde con el nodo\n",
    "        self.state = state\n",
    "\n",
    "        # Nodo en el árbol de búsqueda que ha generado este nodo\n",
    "        self.parent = parent\n",
    "\n",
    "        # Accion que se aplicará al padre para generar al nodo\n",
    "        self.action = action\n",
    "\n",
    "        # Coste denotado por g(n), de un camino desde el estado inicial al nodo, indicado por los punteros a los padres y la profundidad\n",
    "        self.path_cost = path_cost\n",
    "\n",
    "        # Profundidad del nodo en el árbol de búsqueda\n",
    "        self.depth = depth\n",
    "\n",
    "        \n",
    "    def __eq__(self, other):\n",
    "        if isinstance(other, Node):\n",
    "            return self.state == other.state\n",
    "        return False\n",
    "\n",
    "    def __hash__(self):\n",
    "        return hash(self.state)\n",
    "        \n",
    "    def __repr__(self):\n",
    "        return f'estado: {self.state}, Nodo padre: {self.parent}, Accion tomada: {self.action}, Coste: {self.path_cost}, Profundidad: {self.depth}'\n",
    "    def __str__(self):\n",
    "        pass\n",
    "    "
   ]
  },
  {
   "attachments": {},
   "cell_type": "markdown",
   "metadata": {
    "datalore": {
     "hide_input_from_viewers": false,
     "hide_output_from_viewers": false,
     "node_id": "HHXNQcGce3HFeQ2l1KHHUn",
     "type": "MD"
    }
   },
   "source": [
    "#### Class `Problem`\n",
    "This class provides the **representation of the search problem**. This class reads from a file an instance of the problem to be solved. It is defined by the `map`, the `initial_state` and the `final_city` as well as several auxiliary structures to plot the problem. This class must also generate all the `Actions` that can be taken in the problem. It is recommended to store them in a dictionary of the form `{'origin_city_id': [action_1, action_2, action_3, ...]}`. \n",
    "\n",
    "Methods you must add: \n",
    "\n",
    "- `__init__(self, args)`: Constructor of the class, with the necessary arguments\n",
    "- Method to generate the `Action` dictionary from the map\n",
    "- Method to check if a `State` is the goal state\n",
    "\n",
    "Methods recommended: \n",
    "\n",
    "- Method to get the `Actions` associated to a particular `Node`\n",
    "\n",
    "The class `Problem` also has an auxiliary method to plot the whole map and to plot the map with a solution of the problem formed by a list of actions. This can be called as `problem.plot_map()` for the whole map and all its connections, or as `problem.plot_map([action_1, action_2, ...])` to plot just the solution."
   ]
  },
  {
   "cell_type": "code",
   "execution_count": 28,
   "metadata": {
    "datalore": {
     "hide_input_from_viewers": false,
     "hide_output_from_viewers": false,
     "node_id": "j2HySDTv5sQpn1gSgXEn2T",
     "type": "CODE"
    }
   },
   "outputs": [],
   "source": [
    "class Problem:\n",
    "\n",
    "    def __init__(self, filename):\n",
    "        # Method to read the problem JSON file\n",
    "        with open(filename, 'r', encoding='utf8') as file:\n",
    "            problem = json.load(file)\n",
    "        \n",
    "        # Auxiliary structures for the plot_map function\n",
    "        self.cities = {city['id']: city for city in problem['map']['cities']}\n",
    "        self.gdf = gpd.GeoDataFrame(problem['map']['cities'])\n",
    "        self.gdf['Coordinates'] = list(zip(self.gdf.lon, self.gdf.lat))\n",
    "        self.gdf['Coordinates'] = self.gdf['Coordinates'].apply(Point)\n",
    "        self.gdf.set_geometry('Coordinates', inplace=True)\n",
    "\n",
    "        # Estado inicial\n",
    "        self.departure = problem['departure']\n",
    "        # Estado objetivo\n",
    "        self.goal = problem['goal']\n",
    "        # Lista de acciones\n",
    "        self.roads = problem['map']['roads']\n",
    "        # Diccionario de acciones asociados a cada ciudad\n",
    "        self.diccionario_acciones = {}\n",
    "\n",
    "\n",
    "    def __str__(self):\n",
    "        return f'Ciudad origen: {self.cities[self.departure]} ciudad destino: {self.cities[self.goal]}'\n",
    "\n",
    "    # Diccionario de acciones que se pueden realizar\n",
    "    def create_action_dictionary(self):         \n",
    "        \n",
    "        if len(self.diccionario_acciones) == 0:                      #Comprobamos si diccionario esta vacio\n",
    "            for x in self.roads:\n",
    "                if x['origin'] not in self.diccionario_acciones:     #Si la clave todavia no esta la introducimos\n",
    "                    self.diccionario_acciones[x['origin']] = [Action(x.get('origin'), x.get('destination'), x.get('distance'))]\n",
    "                elif x['origin'] in self.diccionario_acciones:       #Si la clave ya esta en el dic añadimos el valor\n",
    "                    self.diccionario_acciones[x['origin']].append(Action(x.get('origin'), x.get('destination'), x.get('distance')))\n",
    "\n",
    "    \n",
    "    # Comprueba si la ciudad actual es la ciudad objetivo devuelve V o F\n",
    "    def comprueba_objetivo(self, estado):\n",
    "        return estado == self.goal\n",
    "\n",
    "    def get_actions(self, state):\n",
    "        # Devuelve las acciones que se pueden realizar desde el estado actual\n",
    "        if len(self.diccionario_acciones) == 0: \n",
    "            self.create_action_dictionary()\n",
    "        return self.diccionario_acciones[state]\n",
    "\n",
    "\n",
    "    def plot_map(self, action_list=None, world_name='Spain'):\n",
    "        world = gpd.read_file(gpd.datasets.get_path('naturalearth_lowres'))\n",
    "        city_ids = {self.cities[city]['name']: city for city in self.cities}\n",
    "        # We restrict to Spain.\n",
    "        ax = world[world.name == world_name].plot(\n",
    "            color='white', edgecolor='black',linewidth=3,figsize=(100,70))\n",
    "\n",
    "        self.gdf.plot(ax=ax, color='red',markersize=500)\n",
    "        for x, y, label in zip(self.gdf.Coordinates.x, self.gdf.Coordinates.y, self.gdf.name):\n",
    "            ax.annotate(f'{city_ids[label]} -- {label}', xy=(x, y), xytext=(8, 3), textcoords=\"offset points\",fontsize=60)\n",
    "        roads = itertools.chain.from_iterable(self.diccionario_acciones.values())\n",
    "\n",
    "        for road in roads:\n",
    "            slat = self.cities[road.origin]['lat']\n",
    "            slon = self.cities[road.origin]['lon']\n",
    "            dlat = self.cities[road.destination]['lat']\n",
    "            dlon = self.cities[road.destination]['lon']\n",
    "            if action_list and road in action_list:\n",
    "                color = 'red'\n",
    "                linewidth = 15\n",
    "            else:\n",
    "                color = 'lime'\n",
    "                linewidth = 5\n",
    "            ax.plot([slon , dlon], [slat, dlat], linewidth=linewidth, color=color, alpha=0.5)"
   ]
  },
  {
   "cell_type": "code",
   "execution_count": 29,
   "metadata": {},
   "outputs": [],
   "source": [
    "# lista = [1,2,3,5,7,8,9,10]\n",
    "# lista.append(4)\n",
    "# print(lista)"
   ]
  },
  {
   "cell_type": "code",
   "execution_count": 30,
   "metadata": {},
   "outputs": [],
   "source": [
    "\n",
    "# # a = p1.get_action(Node(p1.departure, None, None, 0, 0))\n",
    "# # print(a)\n",
    "# print(p1.diccionario_acciones)"
   ]
  },
  {
   "attachments": {},
   "cell_type": "markdown",
   "metadata": {
    "datalore": {
     "hide_input_from_viewers": false,
     "hide_output_from_viewers": false,
     "node_id": "fK3kyth7JPfZntSeLrczHQ",
     "type": "MD"
    }
   },
   "source": [
    "Vamos a tener un diccionario donde esten todas las acciones como las del ejemplo de abajo, y luego un metodo para obtener esas acciones.\n",
    "\n",
    "Para hacer el diccionario, si origen es igual a 0 declaramos esa ciudad como clave para el diccionario de accion. <br>\n",
    "La **Ciudad 0** puede viajar a **1 y a 5** <br>\n",
    "Ej: {Ciudad_0 : [viaja_1, viaja_5], Ciudad_1 : [viaja_0, viaja_5], Ciudad_2 : viaja_9,.......} <br>\n",
    "Ej con numeros: {0 : [1, 5], 1 : [0, 5], 2 : 9,....} <br>\n",
    "Cuando estemos en una ciudad, el estado actual será la clave del diccionario de acciones.\n",
    "\n",
    "Por tanto el metodo **get_action** elegira un valor el cual se le pasara. Supongamos que quiero saber donde se puede viajar desde la ciudad 2, se le pasa al get_action la ciudad que queremos ver y este metodo nos devuelve la lista de posibles ciudades a las que podemos viajar. <br>"
   ]
  },
  {
   "attachments": {},
   "cell_type": "markdown",
   "metadata": {
    "datalore": {
     "hide_input_from_viewers": false,
     "hide_output_from_viewers": false,
     "node_id": "3vVpQaw1MZ6RIfHnPFW6KR",
     "type": "MD"
    }
   },
   "source": [
    "#### Class `Search`\n",
    "\n",
    "The `Search` class is in abstract class that contains some attributes:\n",
    "- The `Problem` to solve.\n",
    "- The list of `open` nodes, i.e. nodes in the frontier, which data structure varies from the different algorithms.\n",
    "- The list of `closed` nodes to implement the graph search, which must be implemented using a `set` data structure.\n",
    "- The statistics from the algorithm, this is:\n",
    "    - The execution time (in ms) to obtain the solution.\n",
    "    - The cost of the solution.\n",
    "    - The number of generated nodes.\n",
    "    - The number of expanded nodes.\n",
    "    - The maximum number of nodes simultaneously stored in memory.\n",
    "    - The solution obtained (sequence of actions).\n",
    "\n",
    "This class also provides some abstract methods:\n",
    "- `insert_node(self, node, node_list)`: Method to insert a node in the proper place in the list. May vary from one algorithm to another.\n",
    "- `extract_node(self, node_list)`: Method to extract a node from the open node list. Can vary from one data structure to another.\n",
    "- `is_empty(self, node_list)`: Method to check if the open node list is empty. Can vary from one data structure to another.\n",
    "\n",
    "Methods you must add: \n",
    "- `__init__(self, args)`: Constructor of the class, with the necessary arguments\n",
    "- `get_successors(self, node)`: this method implements the successors function and should return a list with all the valid `Node` successors of a given `Node`. You must implement this method.\n",
    "- `do_search(self)`: this method implements the graph search you have studied in class. It also provides some statistics of the search process.\n",
    "- A method that returns a human readable list of cities from a list of actions. It should be used to return a readable solution instead of the raw list of actions. \n",
    "\n",
    "Note that these methods have to be compatible with both informed and uninformed search. This is why you have `insert_node`, `extract_node` and `is_empty`: as you will need to use different data structures for informed and uninformed algorithms, just by implementing those methods you can make the general `Search` class agnostic to the data structure underlying. "
   ]
  },
  {
   "cell_type": "code",
   "execution_count": 31,
   "metadata": {
    "datalore": {
     "hide_input_from_viewers": false,
     "hide_output_from_viewers": false,
     "node_id": "uB7GM0xj6RWrJqpxFC3Y4b",
     "type": "CODE"
    }
   },
   "outputs": [],
   "source": [
    "class Search(ABC):\n",
    "    def __init__(self, problem):\n",
    "        \n",
    "        self.problem = problem\n",
    "\n",
    "        self.frontier = []\n",
    "\n",
    "        self.generated_nodes = 0\n",
    "\n",
    "        # Lista de nodos expandidos\n",
    "        self.explored = set()\n",
    "\n",
    "        # Lista de nodos para llegar a la solucion\n",
    "        self.solution = None\n",
    "\n",
    "        # String de la solucion tras pasarlo de acciones a ciudades\n",
    "        self.solution_string =  None\n",
    "\n",
    "        # Coste de la solucion en km\n",
    "        self.solution_cost = None\n",
    "\n",
    "        # PROFUNDIDAD a la que se ha encontrado la solucion\n",
    "        self.solution_depth = None\n",
    "\n",
    "        # Numero de nodos expandidos\n",
    "        self.expanded_nodes = None\n",
    "\n",
    "        # Lista de nodos cerrados\n",
    "        self.closed_nodes = None\n",
    "\n",
    "        # Tiempo de ejecucion\n",
    "        self.execution_time = None\n",
    "\n",
    "    def __repr__(self):\n",
    "        if self.solution is None:\n",
    "            return 'No se ha encontrado solucion'\n",
    "        else:\n",
    "            # return f' Solucion:\\n{self.solution_string}\\nCoste de la solucion: {self.solution_cost} km\\nProfundidad de la solucion: {self.solution_depth}\\nNumero de nodos expandidos: {self.expanded_nodes}\\n Nodo generados: {self.generated_nodes}\\n Lista de nodos expandidos: {self.explored}'\n",
    "         return f\"\"\"Solution length: {self.solution_depth}\n",
    "Solution cost: {self.solution_cost}\n",
    "Solution: \n",
    "{self.solution}\n",
    "City Path:\n",
    "{self.solution_string}\n",
    "Generated nodes: {self.generated_nodes}\n",
    "Expanded nodes: {self.expanded_nodes}\n",
    "Time elapsed: {self.execution_time}\"\"\"\n",
    "\n",
    "\n",
    "         \n",
    "    def __str__(self):\n",
    "        if self.solution is None:\n",
    "            return 'No se ha encontrado solucion'\n",
    "        else:\n",
    "            # return f' Solucion: {self.solution_string}\\n Coste de la solucion: {self.solution_cost} km\\n Profundidad de la solucion: {self.solution_depth}\\n Numero de nodos expandidos: {self.expanded_nodes}\\n Nodo generados: {self.generated_nodes}\\n Lista de nodos expandidos: {self.explored}'\n",
    "            return f\"\"\"Solution length: {self.solution_depth}\n",
    "Solution cost: {self.solution_cost}\n",
    "Solution: \n",
    "{self.solution}\n",
    "City Path:\n",
    "{self.solution_string}\n",
    "Generated nodes: {self.generated_nodes}\n",
    "Expanded nodes: {self.expanded_nodes}\n",
    "Time elapsed: {self.execution_time}\"\"\"\n",
    "        # return f'Coste: {self.solution_cost} Profundidad: {self.solution_depth} Nodos expandidos: {self.expanded_nodes}, Longitud de la solucion: {self.solution_length}'\n",
    "\n",
    "\n",
    "\n",
    "##################################################################################################\n",
    "#                                   METODOS EXPANDIR Y BUSQUEDA                                  #\n",
    "##################################################################################################\n",
    "\n",
    "    # La función EXPANDIR crea nuevos nodos, rellenando sus campos y usa la función\n",
    "    # SUCESOR del problema para crear los estados correspondientes.\n",
    "    def get_successors(self, node):\n",
    "\n",
    "        # Creamos una lista de nodos vacia\n",
    "        successors = []\n",
    "        # Recorremos la lista de acciones que se pueden realizar desde el nodo actual\n",
    "        for action in self.problem.get_actions(node.state):\n",
    "            # Guardamos el destino de la accion en una variable auxiliar para no tener que acceder al diccionario cada vez que la necesitemos\n",
    "            new_state = action.destination\n",
    "            # Creamos un nuevo nodo con el estado, el nodo padre, la accion, el coste y la profundidad\n",
    "            new_node = Node(new_state, node, action, node.path_cost + action.distance, node.depth + 1)\n",
    "            # Añadimos el nodo a la lista de nodos hijos\n",
    "            successors.append(new_node)\n",
    "            # Contamos el numero de nodos generados\n",
    "            self.generated_nodes += 1\n",
    "        # Devolvemos la lista de nodos hijos\n",
    "        return successors\n",
    "        \n",
    "\n",
    "    def do_search(self):\n",
    "        # Inicializamos el tiempo de ejecucion\n",
    "        initial_time = perf_counter()\n",
    "\n",
    "        # Creamos el nodo raiz\n",
    "        initial_node = Node(self.problem.departure, None, None, 0, 0)\n",
    "\n",
    "        self.generated_nodes += 1\n",
    "        # Añadimos el nodo inicial a la frontera\n",
    "        self.insert_node(initial_node)\n",
    "\n",
    "        # Mientras la frontera no este vacia\n",
    "        while self.frontier:\n",
    "            # Sacamos un nodo de la frontera dependiendo del tipo de algoritmo\n",
    "            node = self.extract_node()\n",
    "            # Si el nodo es el objetivo\n",
    "            if self.problem.comprueba_objetivo(node.state):\n",
    "                # Creamos la solucion\n",
    "                self.solution = self.get_solution(node)\n",
    "                # Llamamos a la funcion que crea la cadena de la solucion\n",
    "                self.solution_action2string()\n",
    "                # Calculamos el coste de la solucion\n",
    "                # self.solution_cost = self.calculate_solution_cost()\n",
    "                self.solution_cost = node.path_cost\n",
    "                # Calculamos la profundidad de la solucion\n",
    "                # self.solution_depth = self.calculate_solution_depth()\n",
    "                self.solution_depth = node.depth\n",
    "                # Calculamos el numero de nodos expandidos\n",
    "                self.expanded_nodes = len(self.explored)        \n",
    "                final_time = perf_counter()\n",
    "                self.execution_time = final_time - initial_time\n",
    "                # Devolvemos la solucion\n",
    "                return self.solution\n",
    "            # Si el nodo no esta en la lista de expandidos\n",
    "            if node.state not in self.explored:\n",
    "                # Añadimos el nodo a la lista de expandidos\n",
    "                self.explored.add(node.state)            \n",
    "                # Añadimos los nodos hijos a la frontera\n",
    "                # self.frontier.extend(self.get_successors(node))\n",
    "                for child in self.get_successors(node):\n",
    "                    self.insert_node(child)\n",
    "                \n",
    "                \n",
    "\n",
    "        # Si la frontera esta vacia entonces no hay solucion\n",
    "        # raise Exception('No solution found')\n",
    "        return None\n",
    "\n",
    "###################################################################################\n",
    "#                           ZONA SOLUCIONES                                       #\n",
    "###################################################################################\n",
    "\n",
    "\n",
    "    # Funcion que pasa la lista de acciones a string para poder imprimirlo\n",
    "    def solution_action2string(self):\n",
    "        action_string = ''\n",
    "        # # No deberia llegar aqui pero por si acaso\n",
    "        # if (self.solution is None):\n",
    "        #     raise Exception('Solucion vacia')\n",
    "        # else:\n",
    "        # print('¿Como quieres que se muestre la solucion?')\n",
    "        # print('1. Numero de la ciudad')\n",
    "        # print('2. Nombre de la ciudad')\n",
    "        # input('Introduce el numero de la opcion: ')\n",
    "        # if (input == 1):\n",
    "        #     for action in self.solution:\n",
    "        #         # Mostrar ciudades con numeros\n",
    "        #         action_string += str(action.origin) + ' -> ' + str(action.destination) + '  '\n",
    "        \n",
    "        # else:\n",
    "            # Mostrar ciudades con nombres\n",
    "        for action in self.solution:\n",
    "            action_string += '(' + str(self.problem.cities[action.origin]['name']) + ' -> ' + str(self.problem.cities[action.destination]['name']) + ')\\n'            \n",
    "            # action_string += str(self.problem.cities[action.origin]['name']) + ' ->   '        \n",
    "        # # Añadimos la ultima ciudad\n",
    "        # action_string += str(self.problem.cities[self.solution[-1].destination]['name'])\n",
    "        self.solution_string = action_string\n",
    "\n",
    "\n",
    "    #  Funciones de calculo de la solucion \n",
    "    def calculate_solution_cost(self):\n",
    "        # Sumar todas las distancias de las acciones\n",
    "        return sum([action.distance for action in self.solution])\n",
    "\n",
    "    def calculate_solution_depth(self):\n",
    "        # Calcular numero de acciones a realizar\n",
    "        return len(self.solution) - 1  \n",
    "\n",
    "    def get_solution(self, node):\n",
    "        solution = []\n",
    "        while node.parent is not None:\n",
    "            solution.append(node.action)\n",
    "            node = node.parent\n",
    "        solution.reverse()\n",
    "        return solution\n",
    "\n",
    "###################################################################################\n",
    "\n",
    "    @abstractmethod\n",
    "    def insert_node(self, node):\n",
    "        pass\n",
    "\n",
    "    @abstractmethod\n",
    "    def extract_node(self):\n",
    "        pass\n",
    "\n",
    "    @abstractmethod\n",
    "    def is_empty(self):\n",
    "        pass\n"
   ]
  },
  {
   "attachments": {},
   "cell_type": "markdown",
   "metadata": {
    "datalore": {
     "hide_input_from_viewers": false,
     "hide_output_from_viewers": false,
     "node_id": "HZZ4QWyDfkUBAWrAuAst0g",
     "type": "MD"
    }
   },
   "source": [
    "#### Uninformed Search: `DepthFirst` and `BreadthFirst`\n",
    "\n",
    "These two classes also inherit from `Search` and will implement the depth first and breadth first. As explained before, if you have implemented `get_successors(self, node)` and `do_search(self)` properly, you just have to implement the `insert_node(self, node, node_list)`, `extract_node` and `is_empty` functions. "
   ]
  },
  {
   "cell_type": "code",
   "execution_count": 32,
   "metadata": {
    "datalore": {
     "hide_input_from_viewers": false,
     "hide_output_from_viewers": false,
     "node_id": "SvuYR3F6OUdf1OGIwRlbr2",
     "type": "CODE"
    }
   },
   "outputs": [],
   "source": [
    "class DepthFirstSearch(Search):\n",
    "    def __init__(self, parent_args):\n",
    "        super().__init__(parent_args)\n",
    "        \n",
    "\n",
    "    def __repr__(self):\n",
    "        return f'DepthFirstSearch:\\n{super().__repr__()}'\n",
    "\n",
    "    def insert_node(self, node):\n",
    "        self.frontier.append(node)\n",
    "\n",
    "    def extract_node(self):\n",
    "        return self.frontier.pop()\n",
    "\n",
    "    def is_empty(self):\n",
    "        return len(self.frontier) != 0\n"
   ]
  },
  {
   "cell_type": "code",
   "execution_count": 33,
   "metadata": {
    "datalore": {
     "hide_input_from_viewers": false,
     "hide_output_from_viewers": false,
     "node_id": "xf8gjy5JKmNdBZLiopYWl5",
     "type": "CODE"
    }
   },
   "outputs": [],
   "source": [
    "class BreadthFirst(Search):\n",
    "    def __init__(self, parent_args):\n",
    "        super().__init__(parent_args)\n",
    "        \n",
    "\n",
    "    def __repr__(self):\n",
    "        return f'BreadthFirst:\\n{super().__repr__()}'\n",
    "\n",
    "    def insert_node(self, node):\n",
    "        self.frontier.append(node)\n",
    "\n",
    "    # El unico cambio es que ahora sacamos el primer elemento de la lista, esta es la unica diferencia con el DFS\n",
    "    def extract_node(self):\n",
    "        return self.frontier.pop(0)\n",
    "    \n",
    "    def is_empty(self):\n",
    "        return len(self.frontier) != 0\n",
    "    "
   ]
  },
  {
   "attachments": {},
   "cell_type": "markdown",
   "metadata": {
    "datalore": {
     "hide_input_from_viewers": false,
     "hide_output_from_viewers": false,
     "node_id": "AcYTGveTFf9Ke7xaaxNWz2",
     "type": "MD"
    }
   },
   "source": [
    "#### Informed Search: `BestFirst` and `AStar`\n",
    "\n",
    "These two classes also inherit from `Search` and will implement the best first and $A^*$ search strategies, respectively. \n",
    "\n",
    "The main difference between these three algorithms is the way in which the cost function for a specific node ($f(n) = g(n) + h(n)$) is computed. Assuming that $g(n)$ is the real accumulated cost from the **initial state** to `n.state` and that $h(n)$ is the heuristic cost from `n.state` state to the **goal state**, $f(n)$ is computed as:\n",
    "\n",
    "- Best First: $f(n) = h(n)$\n",
    "- A$^*$: $f(n) = g(n) + h(n)$\n",
    "\n",
    "As before, once the `get_successors(self,node)` and `do_search(self)` methods have been implemented in the parent class, we have to implement the `insert_node(self, node)` method, which will insert the `node` into the `self.open` list of nodes according to the corresponding values of the cost function, as well as the `extract_node` and `is_empty` methods.\n",
    "\n",
    "You also have to implement a new `__init__(self, args)` constructor so that you can expand the behavior of the informed search algorithms with a `Heuristic` and any other methods you need.\n",
    "\n",
    "It is greatly encouraged that you use the [Priority Queue](https://docs.python.org/3/library/queue.html#queue.PriorityQueue) structure for the informed search, as it will be an efficient structure to have your nodes ordered, rather than having to sort the list every single time. "
   ]
  },
  {
   "cell_type": "code",
   "execution_count": 34,
   "metadata": {
    "datalore": {
     "hide_input_from_viewers": false,
     "hide_output_from_viewers": false,
     "node_id": "8hUQWHQVnNxvAYXqFn4CLb",
     "type": "CODE"
    }
   },
   "outputs": [],
   "source": [
    "from queue import PriorityQueue\n",
    "\n",
    "\n",
    "class BestFirst(Search):\n",
    "    \n",
    "    def __init__(self, problem):\n",
    "        # Calling the constructor of the parent class\n",
    "        # with its corresponding arguments\n",
    "        super().__init__(problem)\n",
    "        # Im1 self.frontier = PriorityQueue()\n",
    "        self.heuristic = EuclideanHeuristic(problem)\n",
    "        \n",
    "\n",
    "\n",
    "    def __repr__(self):\n",
    "        return f'BestFirst:\\n{super().__repr__()}'\n",
    "\n",
    "    # Metemos el nodo a la frontera en orden segun la funcion heuristica\n",
    "    def insert_node(self, node):\n",
    "        # Im1 self.frontier.put((self.heuristic.get_hcost(node), node))\n",
    "        \n",
    "        if len(self.frontier) == 0:\n",
    "            self.frontier.append(node)\n",
    "        else:\n",
    "            # Recorremos la lista para introducir el nodo en orden\n",
    "            for i in range(len(self.frontier)):\n",
    "                # Si el nodo a introducir tiene menor coste que el nodo de la lista\n",
    "                if self.heuristic.get_hcost(node) < self.heuristic.get_hcost(self.frontier[i]):\n",
    "                    # Introducimos el nodo en la posicion i\n",
    "                    self.frontier.insert(i, node)\n",
    "                    # Salimos del bucle\n",
    "                    break\n",
    "                elif self.heuristic.get_hcost(node) == self.heuristic.get_hcost(self.frontier[i]):\n",
    "                    # Si el nodo a introducir tiene el mismo coste que el nodo de la lista\n",
    "                    # Introducimos el nodo en la posicion i + 1\n",
    "                    self.frontier.insert(i + 1, node)\n",
    "                    # Salimos del bucle\n",
    "                    break\n",
    "\n",
    "                # Si hemos llegado al final de la lista\n",
    "                elif i == len(self.frontier) - 1:\n",
    "                        # Introducimos el nodo al final\n",
    "                        self.frontier.append(node)\n",
    "                        # Salimos del bucle\n",
    "                        break\n",
    "\n",
    "    # Extraemos el primer nodo de la frontera\n",
    "    def extract_node(self):\n",
    "        # Cogemos el valor en la posicion 1 puesto que en la tupla declaramos\n",
    "        # primero el valor de la heuristica y despues el nodo.\n",
    "        # Im1 return self.frontier.get()[1]\n",
    "        return self.frontier.pop(0)   \n",
    "    \n",
    "    # Comprobamos si la frontera esta vacia\n",
    "    def is_empty(self):\n",
    "        return len(self.frontier) != 0\n",
    "\n"
   ]
  },
  {
   "cell_type": "code",
   "execution_count": 35,
   "metadata": {},
   "outputs": [],
   "source": [
    "# from queue import PriorityQueue\n",
    "# cola = PriorityQueue()\n",
    "\n",
    "# cola.put((1, 'hola'))\n",
    "# cola.put((3, 'adios'))\n",
    "# cola.put((2, 'hola2'))\n",
    "# cola.put((4, 'adios2'))\n",
    "\n"
   ]
  },
  {
   "cell_type": "code",
   "execution_count": 36,
   "metadata": {},
   "outputs": [],
   "source": [
    "# a = cola.get()[1]\n",
    "# print(a)"
   ]
  },
  {
   "cell_type": "code",
   "execution_count": null,
   "metadata": {},
   "outputs": [],
   "source": []
  },
  {
   "cell_type": "code",
   "execution_count": 37,
   "metadata": {},
   "outputs": [],
   "source": [
    "# p1 = Problem('Json/problem.json')\n",
    "# p1.create_action_dictionary()"
   ]
  },
  {
   "cell_type": "code",
   "execution_count": 38,
   "metadata": {},
   "outputs": [],
   "source": [
    "# for i in range(len(p1.roads)):\n",
    "#     # p1.roads[i].values()\n",
    "#     if (p1.roads[i].get('origin')== 0):\n",
    "#         print(p1.roads[i])"
   ]
  },
  {
   "cell_type": "code",
   "execution_count": 39,
   "metadata": {
    "datalore": {
     "hide_input_from_viewers": false,
     "hide_output_from_viewers": false,
     "node_id": "sfPToN8OzveLdHRAtQiTaw",
     "type": "CODE"
    }
   },
   "outputs": [],
   "source": [
    "class AStar(Search):\n",
    "    def __init__(self, parent_args, child_args):\n",
    "        # Calling the constructor of the parent class\n",
    "        # with its corresponding arguments\n",
    "        super().__init__(parent_args)\n",
    "\n",
    "        #TODO: Add your new code here"
   ]
  },
  {
   "attachments": {},
   "cell_type": "markdown",
   "metadata": {
    "datalore": {
     "hide_input_from_viewers": false,
     "hide_output_from_viewers": false,
     "node_id": "9Of8mZ5frLPJQI0ZBSchHv",
     "type": "MD"
    }
   },
   "source": [
    "#### Heuristics\n",
    "\n",
    "An informed search must have an heuristic, and the way to implement is by creating a class for each heuristic. The different classes must inherit from the abstract class `Heuristic` provided here. They must implement the `get_hcost(self, node)` method to return the heuristic of a node. They can also implement a constructor where some information about the problem is given to compute that heuristic."
   ]
  },
  {
   "cell_type": "code",
   "execution_count": 40,
   "metadata": {
    "datalore": {
     "hide_input_from_viewers": false,
     "hide_output_from_viewers": false,
     "node_id": "kFsDFDU1Kp6ZGPnSEOxw9o",
     "type": "CODE"
    }
   },
   "outputs": [],
   "source": [
    "class Heuristic(ABC):   \n",
    "    @abstractmethod\n",
    "    def get_hcost(self, node):\n",
    "        pass"
   ]
  },
  {
   "cell_type": "code",
   "execution_count": 41,
   "metadata": {},
   "outputs": [],
   "source": [
    "\n",
    "class EuclideanHeuristic(Heuristic):\n",
    "    def __init__(self, problem):\n",
    "        self.problem = problem\n",
    "\n",
    "    def get_hcost(self, node):\n",
    "        euclidean_distance = math.sqrt((self.problem.cities[node.state]['lat'] - self.problem.cities[self.problem.goal]['lat'])**2 + (self.problem.cities[node.state]['lon'] - self.problem.cities[self.problem.goal]['lon'])**2)\n",
    "        return euclidean_distance"
   ]
  },
  {
   "cell_type": "code",
   "execution_count": 42,
   "metadata": {},
   "outputs": [],
   "source": [
    "class ManhattanHeuristic(Heuristic):\n",
    "    def __init__(self, problem):\n",
    "        self.problem = problem\n",
    "\n",
    "    def get_hcost(self, node):\n",
    "        pass"
   ]
  },
  {
   "attachments": {},
   "cell_type": "markdown",
   "metadata": {
    "datalore": {
     "hide_input_from_viewers": false,
     "hide_output_from_viewers": false,
     "node_id": "huuMhAxTuk2xSkB6y6OP9a",
     "type": "MD"
    }
   },
   "source": [
    "As an example, the optimistic heuristic is given below. Take into account that you can add information to your heuristic by adding elements in the constructor of the class."
   ]
  },
  {
   "cell_type": "code",
   "execution_count": 43,
   "metadata": {
    "datalore": {
     "hide_input_from_viewers": false,
     "hide_output_from_viewers": false,
     "node_id": "Wt4KB5MBm8QodrT8L7yryY",
     "type": "CODE"
    }
   },
   "outputs": [],
   "source": [
    "class OptimisticHeuristic(Heuristic):\n",
    "    def __init__(self, info):\n",
    "        self.info = info\n",
    "    \n",
    "    def get_hcost(self, node):\n",
    "        return 0"
   ]
  },
  {
   "cell_type": "markdown",
   "metadata": {},
   "source": [
    "PRUEBAS"
   ]
  },
  {
   "cell_type": "code",
   "execution_count": 44,
   "metadata": {},
   "outputs": [
    {
     "name": "stdout",
     "output_type": "stream",
     "text": [
      "Solution length: 9\n",
      "Solution cost: 830.3\n",
      "Solution: \n",
      "[Accion(origin 52, destination 44, trip_cost 113.0), Accion(origin 44, destination 76, trip_cost 73.1), Accion(origin 76, destination 71, trip_cost 106.0), Accion(origin 71, destination 55, trip_cost 13.7), Accion(origin 55, destination 13, trip_cost 164.0), Accion(origin 13, destination 70, trip_cost 147.0), Accion(origin 70, destination 86, trip_cost 84.1), Accion(origin 86, destination 5, trip_cost 105.0), Accion(origin 5, destination 88, trip_cost 24.4)]\n",
      "City Path:\n",
      "(Alcantarilla -> Caudete)\n",
      "(Caudete -> Alcoy/Alcoi)\n",
      "(Alcoy/Alcoi -> Albal)\n",
      "(Albal -> Alaquàs)\n",
      "(Alaquàs -> Teruel)\n",
      "(Teruel -> Cuenca)\n",
      "(Cuenca -> Tarancón)\n",
      "(Tarancón -> Azuqueca de Henares)\n",
      "(Azuqueca de Henares -> Casar (El))\n",
      "\n",
      "Generated nodes: 33\n",
      "Expanded nodes: 10\n",
      "Time elapsed: 0.001097699991078116\n"
     ]
    }
   ],
   "source": [
    "###################################################################################\n",
    "#                             PRUEBAS INDIVIDUALES                                # \n",
    "###################################################################################\n",
    "problem = Problem('Json/problem2.json')\n",
    "\n",
    "# BEST FIRST SEARCH\n",
    "best_first = BestFirst(problem)\n",
    "best_first.do_search()\n",
    "print(best_first)\n",
    "\n",
    "# A* SEARCH\n",
    "# a_star = AStar(problem)\n",
    "# a_star.do_search()\n",
    "# print(a_star)\n",
    "\n",
    "# DEPTH FIRST SEARCH\n",
    "# depth_first = DepthFirstSearch(problem)\n",
    "# depth_first.do_search()\n",
    "# print(depth_first)\n",
    "\n",
    "# BREADTH FIRST SEARCH\n",
    "# breadth_first = BreadthFirst(problem)\n",
    "# breadth_first.do_search()\n",
    "# print(breadth_first)\n"
   ]
  },
  {
   "cell_type": "code",
   "execution_count": 112,
   "metadata": {},
   "outputs": [
    {
     "name": "stdout",
     "output_type": "stream",
     "text": [
      "\n",
      "Problema: problem.json\n",
      "\n",
      "Solucion: \n",
      "Best First: \n",
      " Solucion: Pamplona/Iruña -> Barakaldo  Barakaldo -> Valladolid  Valladolid -> Talavera de la Reina  Talavera de la Reina -> Almendralejo  \n",
      " Coste de la solucion: 999.0 km\n",
      " Profundidad de la solucion: 4\n",
      " Numero de nodos expandidos: 5\n",
      " Nodo generados: 17\n",
      " Lista de nodos expandidos: {0, 1, 5, 7, 10}\n",
      "\n",
      "Problema: problem2.json\n",
      "\n",
      "Solucion: \n",
      "Best First: \n",
      " Solucion: Alcantarilla -> Caudete  Caudete -> Alcoy/Alcoi  Alcoy/Alcoi -> Albal  Albal -> Alaquàs  Alaquàs -> Teruel  Teruel -> Cuenca  Cuenca -> Tarancón  Tarancón -> Azuqueca de Henares  Azuqueca de Henares -> Casar (El)  \n",
      " Coste de la solucion: 830.3 km\n",
      " Profundidad de la solucion: 9\n",
      " Numero de nodos expandidos: 10\n",
      " Nodo generados: 33\n",
      " Lista de nodos expandidos: {5, 70, 71, 76, 44, 13, 52, 86, 55, 31}\n",
      "\n",
      "Problema: problem3.json\n",
      "\n",
      "Solucion: \n",
      "Best First: \n",
      "No se ha encontrado solucion\n",
      "\n",
      "Problema: problem3b.json\n",
      "\n",
      "Solucion: \n",
      "Best First: \n",
      " Solucion: Águilas -> Lorca  Lorca -> Caravaca de la Cruz  Caravaca de la Cruz -> Hellín  Hellín -> Albacete  Albacete -> Villarrobledo  Villarrobledo -> Alcázar de San Juan  Alcázar de San Juan -> Ciudad Real  Ciudad Real -> Toledo  Toledo -> Illescas  Illescas -> Parla  Parla -> Leganés  Leganés -> Madrid  Madrid -> Tres Cantos  Tres Cantos -> Colmenar Viejo  Colmenar Viejo -> Aranda de Duero  Aranda de Duero -> Burgos  Burgos -> Miranda de Ebro  Miranda de Ebro -> Vitoria-Gasteiz  Vitoria-Gasteiz -> Arrasate/Mondragón  \n",
      " Coste de la solucion: 1115.18 km\n",
      " Profundidad de la solucion: 19\n",
      " Numero de nodos expandidos: 48\n",
      " Nodo generados: 218\n",
      " Lista de nodos expandidos: {260, 265, 266, 137, 138, 141, 271, 148, 150, 151, 152, 153, 25, 289, 162, 33, 40, 41, 42, 311, 56, 55, 184, 317, 318, 63, 64, 66, 71, 73, 330, 335, 81, 211, 212, 346, 223, 100, 230, 103, 108, 112, 240, 242, 117, 120, 121, 126}\n",
      "\n",
      "Problema: problem3c.json\n",
      "\n",
      "Solucion: \n",
      "Best First: \n",
      " Solucion: Burgos -> Aranda de Duero  Aranda de Duero -> Colmenar Viejo  Colmenar Viejo -> Alcobendas  Alcobendas -> San Fernando de Henares  San Fernando de Henares -> Rivas-Vaciamadrid  Rivas-Vaciamadrid -> Ciempozuelos  Ciempozuelos -> Aranjuez  Aranjuez -> Illescas  Illescas -> Toledo  Toledo -> Ciudad Real  Ciudad Real -> Valdepeñas  Valdepeñas -> Linares  Linares -> Úbeda  Úbeda -> Guadix  Guadix -> Ejido (El)  Ejido (El) -> Níjar  \n",
      " Coste de la solucion: 1042.1799999999998 km\n",
      " Profundidad de la solucion: 16\n",
      " Numero de nodos expandidos: 18\n",
      " Nodo generados: 90\n",
      " Lista de nodos expandidos: {96, 33, 353, 36, 165, 294, 230, 100, 73, 199, 336, 339, 275, 117, 150, 157, 61, 285}\n",
      "\n",
      "Problema: problem3d.json\n",
      "\n",
      "Solucion: \n",
      "Best First: \n",
      " Solucion: Badajoz -> Almendralejo  Almendralejo -> Mérida  Mérida -> Cáceres  Cáceres -> Plasencia  Plasencia -> Salamanca  Salamanca -> Valladolid  Valladolid -> Palencia  Palencia -> Burgos  Burgos -> Miranda de Ebro  Miranda de Ebro -> Logroño  Logroño -> Calahorra  Calahorra -> Calatayud  Calatayud -> Zaragoza  Zaragoza -> Huesca  \n",
      " Coste de la solucion: 1183.94 km\n",
      " Profundidad de la solucion: 14\n",
      " Numero de nodos expandidos: 19\n",
      " Nodo generados: 70\n",
      " Lista de nodos expandidos: {1, 130, 3, 5, 133, 138, 276, 39, 296, 168, 179, 319, 324, 197, 73, 75, 78, 208, 94}\n",
      "\n",
      "Problema: problem4.json\n",
      "\n",
      "Solucion: \n",
      "Best First: \n",
      "No se ha encontrado solucion\n",
      "\n",
      "Problema: problem4b.json\n",
      "\n",
      "Solucion: \n",
      "Best First: \n",
      " Solucion: Alcaudete -> Almedinilla  Almedinilla -> Algarinejo  Algarinejo -> Carcabuey  Carcabuey -> Doña Mencía  Doña Mencía -> Baena  Baena -> Castro del Río  Castro del Río -> Espejo  Espejo -> Aguilar de la Frontera  Aguilar de la Frontera -> Badolatosa  Badolatosa -> Encinas Reales  Encinas Reales -> Archidona  Archidona -> Alfarnate  Alfarnate -> Benamargosa  Benamargosa -> Benamocarra  Benamocarra -> Algarrobo  Algarrobo -> Almuñécar  Almuñécar -> Albuñuelas  Albuñuelas -> Alhendín  Alhendín -> Cájar  Cájar -> Beas de Granada  Beas de Granada -> Benalúa  Benalúa -> Alpujarra de la Sierra  \n",
      " Coste de la solucion: 683.6 km\n",
      " Profundidad de la solucion: 22\n",
      " Numero de nodos expandidos: 31\n",
      " Nodo generados: 94\n",
      " Lista de nodos expandidos: {897, 769, 642, 389, 905, 659, 148, 406, 156, 414, 930, 554, 812, 562, 180, 826, 189, 194, 326, 970, 205, 846, 225, 226, 483, 998, 631, 624, 119, 376, 249}\n",
      "\n",
      "Problema: problem4c.json\n",
      "\n",
      "Solucion: \n",
      "Best First: \n",
      " Solucion: Castellar de la Frontera -> Jimena de la Frontera  Jimena de la Frontera -> Alcalá de los Gazules  Alcalá de los Gazules -> Algar  \n",
      " Coste de la solucion: 144.5 km\n",
      " Profundidad de la solucion: 3\n",
      " Numero de nodos expandidos: 3\n",
      " Nodo generados: 11\n",
      " Lista de nodos expandidos: {1, 771, 911}\n",
      "\n",
      "Problema: problem4d.json\n",
      "\n",
      "Solucion: \n",
      "Best First: \n",
      " Solucion: \n",
      " Coste de la solucion: 0 km\n",
      " Profundidad de la solucion: 0\n",
      " Numero de nodos expandidos: 0\n",
      " Nodo generados: 1\n",
      " Lista de nodos expandidos: set()\n",
      "\n",
      "Problema: problem4e.json\n",
      "\n",
      "Solucion: \n",
      "Best First: \n",
      " Solucion: Campillo (El) -> Aracena  Aracena -> Cumbres Mayores  Cumbres Mayores -> Bodonal de la Sierra  Bodonal de la Sierra -> Arroyomolinos de León  Arroyomolinos de León -> Cala  Cala -> Almadén de la Plata  Almadén de la Plata -> Burguillos  Burguillos -> Alcolea del Río  Alcolea del Río -> Campana (La)  Campana (La) -> Cañada Rosal  Cañada Rosal -> Carlota (La)  Carlota (La) -> Córdoba  Córdoba -> Adamuz  Adamuz -> Bujalance  Bujalance -> Castro del Río  Castro del Río -> Espejo  Espejo -> Aguilar de la Frontera  Aguilar de la Frontera -> Badolatosa  Badolatosa -> Encinas Reales  Encinas Reales -> Archidona  Archidona -> Alfarnate  Alfarnate -> Benamargosa  Benamargosa -> Benamocarra  Benamocarra -> Algarrobo  \n",
      " Coste de la solucion: 694.2 km\n",
      " Profundidad de la solucion: 24\n",
      " Numero de nodos expandidos: 35\n",
      " Nodo generados: 113\n",
      " Lista de nodos expandidos: {897, 769, 390, 905, 403, 148, 533, 22, 406, 659, 25, 414, 290, 930, 296, 554, 812, 301, 562, 826, 315, 571, 699, 575, 194, 963, 846, 847, 225, 226, 998, 624, 119, 249, 765}\n",
      "\n",
      "Problema: problem4f.json\n",
      "\n",
      "Solucion: \n",
      "Best First: \n",
      " Solucion: Soria -> Golmayo  Golmayo -> Vinuesa  Vinuesa -> Duruelo de la Sierra  Duruelo de la Sierra -> San Leonardo de Yagüe  San Leonardo de Yagüe -> San Esteban de Gormaz  San Esteban de Gormaz -> Ayllón  Ayllón -> Mozoncillo  Mozoncillo -> Aranda de Duero  Aranda de Duero -> Roa  Roa -> Campaspero  Campaspero -> Montemayor de Pililla  Montemayor de Pililla -> Íscar  Íscar -> Mojados  Mojados -> Aldeamayor de San Martín  Aldeamayor de San Martín -> Boecillo  Boecillo -> Cistérniga  Cistérniga -> Cigales  Cigales -> Medina de Rioseco  Medina de Rioseco -> Mayorga  Mayorga -> Villada  Villada -> Paredes de Nava  Paredes de Nava -> Grijota  Grijota -> Villalobón  Villalobón -> Magaz de Pisuerga  Magaz de Pisuerga -> Torquemada  Torquemada -> Astudillo  Astudillo -> Osorno la Mayor  Osorno la Mayor -> Herrera de Pisuerga  Herrera de Pisuerga -> Alar del Rey  Alar del Rey -> Aguilar de Campoo  Aguilar de Campoo -> Barruelo de Santullán  Barruelo de Santullán -> Cervera de Pisuerga  Cervera de Pisuerga -> Santibáñez de la Peña  \n",
      " Coste de la solucion: 783.1 km\n",
      " Profundidad de la solucion: 33\n",
      " Numero de nodos expandidos: 39\n",
      " Nodo generados: 125\n",
      " Lista de nodos expandidos: {132, 518, 522, 398, 655, 915, 661, 537, 410, 31, 681, 682, 809, 558, 48, 179, 692, 693, 438, 316, 578, 68, 455, 593, 82, 851, 986, 92, 221, 991, 992, 358, 615, 232, 875, 880, 116, 379, 382}\n",
      "\n",
      "Problema: problem4g.json\n",
      "\n",
      "Solucion: \n",
      "Best First: \n",
      " Solucion: Beariz -> Cerdedo  Cerdedo -> Cotobade  Cotobade -> Campo Lameiro  Campo Lameiro -> Barro  Barro -> Cambados  Cambados -> Grove (O)  Grove (O) -> Bueu  \n",
      " Coste de la solucion: 174.39999999999998 km\n",
      " Profundidad de la solucion: 7\n",
      " Numero de nodos expandidos: 8\n",
      " Nodo generados: 30\n",
      " Lista de nodos expandidos: {293, 231, 139, 620, 77, 527, 220, 319}\n",
      "\n",
      "Problema: problem5.json\n",
      "\n",
      "Solucion: \n",
      "Best First: \n",
      "No se ha encontrado solucion\n",
      "\n",
      "Problema: problem5b.json\n",
      "\n",
      "Solucion: \n",
      "Best First: \n",
      " Solucion: Siero -> Noreña  Noreña -> Langreo  Langreo -> Mieres  Mieres -> Lena  Lena -> Riosa  Riosa -> Quirós  Quirós -> Teverga  Teverga -> Somiedo  Somiedo -> Villablino  Villablino -> Palacios del Sil  Palacios del Sil -> Páramo del Sil  Páramo del Sil -> Toreno  \n",
      " Coste de la solucion: 252.19999999999993 km\n",
      " Profundidad de la solucion: 12\n",
      " Numero de nodos expandidos: 12\n",
      " Nodo generados: 33\n",
      " Lista de nodos expandidos: {516, 359, 649, 3019, 1612, 77, 1584, 951, 2515, 1047, 603, 318}\n",
      "\n",
      "Problema: problem5c.json\n",
      "\n",
      "Solucion: \n",
      "Best First: \n",
      "No se ha encontrado solucion\n",
      "\n",
      "Problema: problem5d.json\n",
      "\n",
      "Solucion: \n",
      "Best First: \n",
      " Solucion: Bareyo -> Meruelo  Meruelo -> Noja  Noja -> Argoños  Argoños -> Bárcena de Cicero  Bárcena de Cicero -> Colindres  Colindres -> Limpias  Limpias -> Rasines  Rasines -> Ramales de la Victoria  Ramales de la Victoria -> Soba  Soba -> Espinosa de los Monteros  Espinosa de los Monteros -> Villarcayo de Merindad de Castilla la Vieja  Villarcayo de Merindad de Castilla la Vieja -> Medina de Pomar  Medina de Pomar -> Trespaderne  Trespaderne -> Oña  Oña -> Merindad de Río Ubierna  Merindad de Río Ubierna -> Burgos  Burgos -> Arcos  Arcos -> Lerma  Lerma -> Aranda de Duero  Aranda de Duero -> Mozoncillo  Mozoncillo -> Sepúlveda  Sepúlveda -> Cantalejo  Cantalejo -> Turégano  Turégano -> Torrecaballeros  Torrecaballeros -> Palazuelos de Eresma  Palazuelos de Eresma -> San Ildefonso  San Ildefonso -> Rascafría  Rascafría -> Miraflores de la Sierra  Miraflores de la Sierra -> Soto del Real  Soto del Real -> Manzanares el Real  Manzanares el Real -> Boalo (El)  Boalo (El) -> Moralzarzal  Moralzarzal -> Hoyo de Manzanares  Hoyo de Manzanares -> Torrelodones  Torrelodones -> Galapagar  Galapagar -> Colmenarejo  Colmenarejo -> Villanueva del Pardillo  Villanueva del Pardillo -> Brunete  Brunete -> Sevilla la Nueva  Sevilla la Nueva -> Navalcarnero  Navalcarnero -> Álamo (El)  Álamo (El) -> Batres  Batres -> Carranque  Carranque -> Ugena  Ugena -> Illescas  Illescas -> Yuncos  Yuncos -> Yuncler  Yuncler -> Cobeja  \n",
      " Coste de la solucion: 721.4000000000001 km\n",
      " Profundidad de la solucion: 48\n",
      " Numero de nodos expandidos: 110\n",
      " Nodo generados: 331\n",
      " Lista de nodos expandidos: {2562, 3079, 1033, 1552, 1044, 27, 34, 2595, 42, 1582, 46, 2609, 1597, 2622, 2114, 68, 1610, 595, 2131, 1621, 2132, 601, 93, 1118, 2151, 117, 1655, 1666, 2183, 1671, 138, 654, 2201, 1697, 1187, 1700, 1205, 1206, 693, 2748, 1725, 190, 1215, 1222, 206, 1747, 725, 2775, 2268, 2269, 1252, 234, 1773, 2288, 2800, 1266, 1268, 256, 770, 261, 791, 1819, 1307, 2844, 2336, 2352, 2354, 2356, 2872, 832, 320, 2374, 335, 2899, 862, 2912, 2406, 362, 2418, 2421, 374, 891, 382, 384, 2435, 2953, 1929, 1930, 1935, 405, 406, 1946, 928, 2987, 954, 1466, 1467, 3006, 1982, 1987, 452, 965, 2506, 973, 3049, 1514, 2546, 2036, 2042, 511}\n",
      "\n",
      "Problema: problem5e.json\n",
      "\n",
      "Solucion: \n",
      "Best First: \n",
      " Solucion: Medio Cudeyo -> Liérganes  Liérganes -> Entrambasaguas  Entrambasaguas -> Ribamontán al Mar  Ribamontán al Mar -> Bareyo  Bareyo -> Meruelo  Meruelo -> Noja  Noja -> Argoños  Argoños -> Bárcena de Cicero  Bárcena de Cicero -> Colindres  Colindres -> Limpias  Limpias -> Rasines  Rasines -> Ramales de la Victoria  Ramales de la Victoria -> Soba  Soba -> Espinosa de los Monteros  Espinosa de los Monteros -> Villarcayo de Merindad de Castilla la Vieja  Villarcayo de Merindad de Castilla la Vieja -> Medina de Pomar  Medina de Pomar -> Trespaderne  Trespaderne -> Oña  Oña -> Merindad de Río Ubierna  Merindad de Río Ubierna -> Burgos  Burgos -> Arcos  Arcos -> Lerma  Lerma -> Aranda de Duero  Aranda de Duero -> Mozoncillo  Mozoncillo -> Sepúlveda  Sepúlveda -> Cantalejo  Cantalejo -> Turégano  Turégano -> Torrecaballeros  Torrecaballeros -> Palazuelos de Eresma  Palazuelos de Eresma -> San Ildefonso  San Ildefonso -> Rascafría  Rascafría -> Miraflores de la Sierra  Miraflores de la Sierra -> Bustarviejo  Bustarviejo -> Guadalix de la Sierra  Guadalix de la Sierra -> Venturada  Venturada -> Vellón (El)  Vellón (El) -> Talamanca de Jarama  Talamanca de Jarama -> Valdetorres de Jarama  \n",
      " Coste de la solucion: 637.2 km\n",
      " Profundidad de la solucion: 38\n",
      " Numero de nodos expandidos: 87\n",
      " Nodo generados: 269\n",
      " Lista de nodos expandidos: {2562, 3079, 1033, 1552, 27, 2595, 42, 1582, 1597, 2622, 2114, 68, 1610, 2131, 1621, 601, 93, 1118, 2659, 2151, 2666, 117, 1655, 1666, 2183, 138, 654, 2201, 1697, 1187, 1700, 683, 1205, 1206, 2748, 1725, 190, 1215, 1222, 1747, 725, 2775, 2268, 2269, 1252, 2288, 2800, 1266, 1268, 256, 770, 1819, 1307, 2844, 2336, 2352, 2356, 2374, 335, 862, 2912, 362, 2418, 2421, 382, 384, 2953, 1929, 405, 406, 1946, 928, 1448, 2987, 954, 1466, 3006, 1982, 1987, 965, 973, 1492, 2529, 3049, 2036, 2042, 511}\n",
      "\n",
      "Problema: problem5f.json\n",
      "\n",
      "Solucion: \n",
      "Best First: \n",
      " Solucion: Villagonzalo -> Oliva de Mérida  Oliva de Mérida -> Guareña  Guareña -> Valdetorres  Valdetorres -> Santa Amalia  Santa Amalia -> Don Benito  Don Benito -> Villanueva de la Serena  Villanueva de la Serena -> Villar de Rena  Villar de Rena -> Campo Lugar  Campo Lugar -> Madrigalejo  Madrigalejo -> Navalvillar de Pela  Navalvillar de Pela -> Casas de Don Pedro  Casas de Don Pedro -> Esparragosa de Lares  Esparragosa de Lares -> Puebla de Alcocer  Puebla de Alcocer -> Peñalsordo  Peñalsordo -> Siruela  Siruela -> Agudo  Agudo -> Fuenlabrada de los Montes  Fuenlabrada de los Montes -> Herrera del Duque  Herrera del Duque -> Castilblanco  Castilblanco -> Alía  Alía -> Cañamero  Cañamero -> Castañar de Ibor  Castañar de Ibor -> Peraleda de la Mata  Peraleda de la Mata -> Rosalejo  Rosalejo -> Villanueva de la Vera  Villanueva de la Vera -> Madrigal de la Vera  Madrigal de la Vera -> Candeleda  Candeleda -> Navalcán  Navalcán -> Velada  Velada -> Belvís de la Jara  Belvís de la Jara -> Alcaudete de la Jara  Alcaudete de la Jara -> Talavera de la Reina  Talavera de la Reina -> Pepino  Pepino -> San Román de los Montes  San Román de los Montes -> Cazalegas  Cazalegas -> Pueblanueva (La)  Pueblanueva (La) -> Navalmorales (Los)  Navalmorales (Los) -> Navalucillos (Los)  Navalucillos (Los) -> Navahermosa  Navahermosa -> San Pablo de los Montes  San Pablo de los Montes -> Menasalbas  Menasalbas -> Ventas con Peña Aguilera (Las)  Ventas con Peña Aguilera (Las) -> Cuerva  Cuerva -> Pulgar  Pulgar -> Polán  Polán -> Argés  Argés -> Toledo  Toledo -> Bargas  Bargas -> Olías del Rey  Olías del Rey -> Mocejón  Mocejón -> Villaseca de la Sagra  Villaseca de la Sagra -> Cobeja  Cobeja -> Yuncler  Yuncler -> Yuncos  Yuncos -> Illescas  Illescas -> Yeles  Yeles -> Esquivias  Esquivias -> Borox  Borox -> Seseña  Seseña -> Aranjuez  Aranjuez -> Ontígola  Ontígola -> Ocaña  Ocaña -> Dosbarrios  Dosbarrios -> Tembleque  Tembleque -> Villacañas  Villacañas -> Quero  Quero -> Villafranca de los Caballeros  Villafranca de los Caballeros -> Herencia  Herencia -> Puerto Lápice  Puerto Lápice -> Arenas de San Juan  Arenas de San Juan -> Villarrubia de los Ojos  Villarrubia de los Ojos -> Daimiel  Daimiel -> Torralba de Calatrava  Torralba de Calatrava -> Almagro  Almagro -> Moral de Calatrava  Moral de Calatrava -> Valdepeñas  Valdepeñas -> Santa Cruz de Mudela  Santa Cruz de Mudela -> Viso del Marqués  Viso del Marqués -> Santa Elena  Santa Elena -> Carolina (La)  Carolina (La) -> Guarromán  Guarromán -> Linares  Linares -> Torreblascopedro  Torreblascopedro -> Villatorres  \n",
      " Coste de la solucion: 1390.8999999999999 km\n",
      " Profundidad de la solucion: 84\n",
      " Numero de nodos expandidos: 165\n",
      " Nodo generados: 453\n",
      " Lista de nodos expandidos: {512, 1540, 1031, 1551, 3091, 531, 23, 536, 26, 32, 558, 559, 3063, 2101, 1078, 2104, 59, 2621, 74, 1611, 78, 592, 1618, 1109, 86, 600, 2648, 604, 1123, 1639, 105, 106, 1649, 114, 2164, 1146, 1660, 2173, 1152, 2692, 133, 2194, 153, 666, 1693, 1183, 685, 175, 2736, 1713, 180, 2229, 2745, 1212, 720, 2260, 2265, 1754, 732, 223, 2277, 231, 1256, 748, 1773, 239, 1776, 751, 1269, 247, 249, 2300, 2302, 2814, 2817, 2307, 772, 1799, 267, 1293, 2320, 1296, 1815, 2840, 279, 2337, 291, 2852, 1830, 2857, 2350, 1841, 2867, 307, 2361, 1340, 1345, 2884, 1351, 2888, 332, 2893, 1359, 2387, 2390, 854, 1374, 2400, 2915, 2404, 357, 2410, 874, 2924, 1902, 880, 2932, 885, 374, 2427, 1916, 1919, 898, 2435, 2437, 399, 2961, 2966, 2456, 2969, 1944, 1437, 415, 416, 2468, 934, 2983, 2984, 2480, 434, 1459, 3014, 968, 1487, 977, 471, 1016, 2524, 2013, 3039, 2528, 2019, 1507, 997, 2023, 490, 2542, 1010, 2035, 3059, 2549, 502, 2551, 1014, 3070}\n",
      "\n",
      "Problema: RomaniaRussellNorvig.json\n",
      "\n",
      "Solucion: \n",
      "Best First: \n",
      " Solucion: Arad -> Sibiu  Sibiu -> Fagaras  Fagaras -> Bucharest  \n",
      " Coste de la solucion: 450 km\n",
      " Profundidad de la solucion: 3\n",
      " Numero de nodos expandidos: 3\n",
      " Nodo generados: 10\n",
      " Lista de nodos expandidos: {2, 3, 4}\n"
     ]
    }
   ],
   "source": [
    "###################################################################################\n",
    "#                             TODAS LAS PRUEBAS                                   #\n",
    "###################################################################################\n",
    "\n",
    "import os\n",
    " \n",
    "\n",
    "# Cargamos todos los archivos de la carpeta Json para que devuelva resultados de forma iterativa\n",
    "for file in os.listdir('Json'):\n",
    "    if file.endswith('.json'):\n",
    "        problema = Problem('Json/' + file)\n",
    "        print('\\nProblema: ' + file + '\\n')\n",
    "        print('Solucion: ')\n",
    "        \n",
    "        best_first = BestFirst(problema)\n",
    "        best_first.do_search()\n",
    "        print('Best First: ')\n",
    "        print(best_first)\n",
    "\n",
    "        # DFS = DepthFirstSearch(problema)\n",
    "        # DFS.do_search()\n",
    "\n",
    "        # BFS = BreadthFirst(problema)\n",
    "        # BFS.do_search()\n",
    "\n",
    "        # print('DFS: ')\n",
    "        # print(DFS)\n",
    "        # print('BFS: ')\n",
    "        # print(BFS)\n",
    "        # print('\\n------------------------------------------------------------')"
   ]
  },
  {
   "cell_type": "code",
   "execution_count": 48,
   "metadata": {},
   "outputs": [
    {
     "name": "stdout",
     "output_type": "stream",
     "text": [
      "Solution length: 9\n",
      "Solution cost: 830.3\n",
      "Solution: \n",
      "[Accion(origin 52, destination 44, trip_cost 113.0), Accion(origin 44, destination 76, trip_cost 73.1), Accion(origin 76, destination 71, trip_cost 106.0), Accion(origin 71, destination 55, trip_cost 13.7), Accion(origin 55, destination 13, trip_cost 164.0), Accion(origin 13, destination 70, trip_cost 147.0), Accion(origin 70, destination 86, trip_cost 84.1), Accion(origin 86, destination 5, trip_cost 105.0), Accion(origin 5, destination 88, trip_cost 24.4)]\n",
      "City Path:\n",
      "(Alcantarilla -> Caudete)\n",
      "(Caudete -> Alcoy/Alcoi)\n",
      "(Alcoy/Alcoi -> Albal)\n",
      "(Albal -> Alaquàs)\n",
      "(Alaquàs -> Teruel)\n",
      "(Teruel -> Cuenca)\n",
      "(Cuenca -> Tarancón)\n",
      "(Tarancón -> Azuqueca de Henares)\n",
      "(Azuqueca de Henares -> Casar (El))\n",
      "\n",
      "Generated nodes: 33\n",
      "Expanded nodes: 10\n",
      "Time elapsed: 0.0003947999939555302\n",
      "Solucion incorrecta: \n"
     ]
    }
   ],
   "source": [
    "###################################################################################\n",
    "#                     PRUEBA COMPROBADA CON SOLUCION                              #\n",
    "###################################################################################\n",
    "\n",
    "p1 = Problem('Json/problem2.json')\n",
    "\n",
    "# BEST FIRST SEARCH\n",
    "best_first = BestFirst(problem)\n",
    "best_first.do_search()\n",
    "print(best_first)\n",
    "\n",
    "# Comparamos los resultados con la solucion en el txt\n",
    "with open('Soluciones/problem2-best-first-solution.txt', 'r') as file:\n",
    "    data = file.read().replace('\\n', '')\n",
    "    # data = file.read().splitlines()\n",
    "    # Buscamos en data el coste de la solucion definida como Solution cost:\n",
    "    coste = data[data.find('Solution cost: ', 2, 2)]\n",
    "    # print('Coste de la solucion: ' + coste)\n",
    "# Comprobamos si la solucion es correcta\n",
    "if (best_first.solution_cost == data):\n",
    "    print('Solucion correcta')\n",
    "else:\n",
    "    print(\"Solucion incorrecta: \")\n"
   ]
  },
  {
   "attachments": {},
   "cell_type": "markdown",
   "metadata": {
    "datalore": {
     "hide_input_from_viewers": false,
     "hide_output_from_viewers": false,
     "node_id": "6q3uoKPoKLFZnX2wHpx2mu",
     "type": "MD"
    }
   },
   "source": [
    "### 4.3 Study and improvement of the algorithms\n",
    "Once the algorithms have been implemented, you must study their performance. In order to do that,\n",
    "you must compare the quality of the solutions obtained, as well as the number of expanded nodes for\n",
    "instances of different sizes. Factors as the maximum size of problem that can be solved (without memory\n",
    "overflow), or the effect of using more complex scenarios, are also important. Moreover, you can propose\n",
    "alternative implementations that increase the efficiency of the algorithms."
   ]
  },
  {
   "attachments": {},
   "cell_type": "markdown",
   "metadata": {
    "datalore": {
     "hide_input_from_viewers": false,
     "hide_output_from_viewers": false,
     "node_id": "TN8nQpEQOYIQynu67Jy1ln",
     "type": "MD"
    }
   },
   "source": [
    "### 4.4 Report\n",
    "Besides the notebook containing the implementation, the assignment consists in the elaboration of a report, which will have a later deadline, but you should be developing when your code starts solving problems\n",
    "correctly. \n",
    "\n",
    "In particular, among other issues that the student deems of interest to discuss, it should include:\n",
    "\n",
    "- A brief description of the problem, a description of the implementation, the performance evaluation, and the description of improvements if they exist. \n",
    "- The formalization of the problem.\n",
    "- For informed search algorithms one (or several) heuristic functions must be provided. Apart from their description and motivation, an analysis should be included indicating whether the proposed heuristic is considered admissible and/or consistent.\n",
    "- The study of performance of implemented algorithms should be based on testing the algorithms over several instances, presenting tables or graphics that summarize results (do not include screenshots).\n",
    "\n",
    "The memory must not include figures with source code, unless this is necessary to explain some key concept (data structures, improvements in efficiency, etc). In such cases, you are allowed to include\n",
    "properly formatted pseudocode."
   ]
  },
  {
   "attachments": {},
   "cell_type": "markdown",
   "metadata": {
    "datalore": {
     "hide_input_from_viewers": false,
     "hide_output_from_viewers": false,
     "node_id": "Tinwe1v9Wx9ZaC9NcMPB1a",
     "type": "MD"
    }
   },
   "source": [
    "## 5. Submission and evaluation\n",
    "The work must be made in pairs, although in some exceptional cases you can present it individually. The deadline for submission is 6th November, 2022. Interviews and evaluations will be in the following week. \n",
    "\n",
    "You must work on your notebook on the Datalore project, as the day of the deadline it will run some automated tests and collect the notebooks in the state they are. No changes will be allowed after the deadline. \n",
    "\n",
    "Some considerations related to the evaluation:\n",
    "- This is 30% of the lab grade. Lab2 (70%) needs the resolution of this part. Late submissions\n",
    "(together with lab2) or failed assignments will be evaluated globally but with a penalization of factor\n",
    "0.9, as the students can only get 90% of the lab grade.\n",
    "- Attendance with performance to the lab not only will provide half of the participation grade, but\n",
    "it will also be the best foundation for successful resolution of the labs.\n",
    "- The assignment will be evaluated during an individual interview with the professors. Dates for the\n",
    "interviews will be published with some advance in Campus Virtual.\n",
    "- We will provide a set of preliminary test cases (several maps and queries) that must be correctly\n",
    "solved. Otherwise, the assignment will be considered as failed.\n",
    "- In order to get a mark in the assignment you will have to answer, individually, a set of basic\n",
    "questions about the code organization.\n",
    "- In the non-continuous evaluation we will require the implementation of the same strategies plus\n",
    "these extra two: Depth-limited search and Iterative deepening search."
   ]
  },
  {
   "cell_type": "code",
   "execution_count": null,
   "metadata": {
    "datalore": {
     "hide_input_from_viewers": false,
     "hide_output_from_viewers": false,
     "node_id": "QR24FQbSFQ8vf4Vuc9n3d5",
     "type": "CODE"
    }
   },
   "outputs": [],
   "source": []
  }
 ],
 "metadata": {
  "datalore": {
   "base_environment": "default",
   "computation_mode": "JUPYTER",
   "package_manager": "pip",
   "packages": [
    {
     "name": "pqueue",
     "source": "PIP",
     "version": "0.1.7"
    },
    {
     "name": "geopy",
     "source": "PIP",
     "version": "2.2.0"
    }
   ],
   "version": 1
  },
  "kernelspec": {
   "display_name": "Python 3.10.8 64-bit (microsoft store)",
   "language": "python",
   "name": "python3"
  },
  "language_info": {
   "codemirror_mode": {
    "name": "ipython",
    "version": 3
   },
   "file_extension": ".py",
   "mimetype": "text/x-python",
   "name": "python",
   "nbconvert_exporter": "python",
   "pygments_lexer": "ipython3",
   "version": "3.10.8"
  },
  "vscode": {
   "interpreter": {
    "hash": "410621c85258efa0ea47ad915638abc1a4a3304f33944a818dfb0fc7cd918640"
   }
  }
 },
 "nbformat": 4,
 "nbformat_minor": 4
}
