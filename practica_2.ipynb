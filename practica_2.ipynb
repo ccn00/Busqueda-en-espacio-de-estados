{
 "cells":[
  {
   "cell_type":"markdown",
   "source":[
    "# Práctica 2: Algoritmos metaheurísticos\n",
    "\n",
    "## Sistemas Inteligentes\n",
    "\n",
    "### Curso académico 2022-2023\n",
    "\n",
    "#### Profesorado:\n",
    "\n",
    "* Juan Carlos Alfaro Jiménez (`JuanCarlos.Alfaro@uclm.es`)\n",
    "* Guillermo Tomás Fernández Martín (`Guillermo.Fernandez@uclm.es`)\n",
    "* María Julia Flores Gallego (`Julia.Flores@uclm.es`)\n",
    "* Ismael García Varea (`Ismael.Garcia@uclm.es`)\n",
    "* Luis González Naharro (`Luis.GNaharro@uclm.es`)\n",
    "* Aurora Macías Ojeda (`Profesor.AMacias@uclm.es`)\n",
    "* Marina Sokolova Sokolova (`Marina.Sokolova@uclm.es`)"
   ],
   "attachments":{
    
   },
   "metadata":{
    "datalore":{
     "node_id":"yLdVtrycDWHyWuJsZXjfN6",
     "type":"MD",
     "hide_input_from_viewers":false,
     "hide_output_from_viewers":false,
     "report_properties":{
      
     }
    }
   }
  },
  {
   "cell_type":"markdown",
   "source":[
    "## 0. Preliminares\n",
    "\n",
    "Antes de comenzar con el desarrollo de esta práctica es necesario **descargar**, en **formato `.py`**, el código de la **práctica anterior** con el nombre **`utils.py`**. Para ello, pulsamos, en la libreta de la primera práctica, **`File > Export .py`**.\n",
    "\n",
    "Una vez hemos descargado y nombrado correctamente el fichero, lo **añadimos** al espacio de trabajo de la **libreta** de la práctica **actual** a través de **`Attached data > Notebook files > Upload files`** y subimos el fichero `utils.py` descargado en el paso anterior.\n",
    "\n",
    "Tras esto, debemos **cambiar** el **constructor** de la clase **`Problem`** para que **reciba** directamente el **problema** a resolver, **en lugar de cargarlo desde** un **fichero**. Esto se debe a que los algoritmos metaheurísticos van a tener que resolver, en múltiples ocasiones, este problema. De esta manera nos **evitamos** la **carga computacional extra** que implica **leer** el problema desde un **fichero**. Además, también es necesario **comentar** cualquier línea de **código** que **imprima estadísticas** para evitar salidas largas."
   ],
   "attachments":{
    
   },
   "metadata":{
    "datalore":{
     "node_id":"982IVN3tGtSrVVBrH4911R",
     "type":"MD",
     "hide_input_from_viewers":false,
     "hide_output_from_viewers":false,
     "report_properties":{
      
     }
    }
   }
  },
  {
   "cell_type":"markdown",
   "source":[
    "## 1. Introducción\n",
    "\n",
    "En esta práctica, vamos a **resolver** un **problema** de **optimización combinatoria** mediante **algoritmos metaheurísticos**. En particular, vamos a implementar **algoritmos genéticos** para abordar el **problema** de **ruteo** de **vehículos**. En este, **varios vehículos** con **capacidad limitada** deben **recoger paquetes** en **diferentes ubicaciones** y **trasladarlos** a una **sede central** de recogida.\n",
    "\n",
    "Además, se **analizará** y **comparará** el **rendimiento** de **diferentes algoritmos genéticos** (mediante la modificación de los pasos correspondientes) en diferentes instancias del problema.\n",
    "\n",
    "---"
   ],
   "attachments":{
    
   },
   "metadata":{
    "datalore":{
     "node_id":"syMR9Ze0dsA7l1Yyc3gfj8",
     "type":"MD",
     "hide_input_from_viewers":false,
     "hide_output_from_viewers":false,
     "report_properties":{
      
     }
    }
   }
  },
  {
   "cell_type":"markdown",
   "source":[
    "## 2. Descripción del problema\n",
    "\n",
    "El concepto de mapa que vamos a utilizar es similar al de la primera práctica. Este se representa mediante un **grafo**, donde los **nodos** representan **ciudades** y los **enlaces** indican la existencia de una **carretera en ambos sentidos** entre dos ciudades. Además, los **enlaces** tienen un **peso** asociado indicando la **distancia real** entre las dos ciudades. Al mismo tiempo, se proporciona una **sede central**, que se trata de la ciudad donde se deben dejar los paquetes. A su vez, se dispone de una **flota de vehículos** con **capacidad limitada** que deben **recoger** los **paquetes** en las ciudades correspondientes y que **inicialmente** están aparcados en la **sede central**. **En caso de que a la hora de recoger un paquete se supere la capacidad del vehículo correspondiente, este debe volver a la sede central a descargar todos los paquetes, considerando el coste que implicaría volver**.\n",
    "\n",
    "Un mapa es un problema en particular, pero diferentes paquetes, capacidades de vehículos y ubicación de la sede central pueden dar lugar a diferentes instancias del problema. Por tanto, el **objetivo** en este problema es **recoger todos los paquetes de tal manera que los vehículos recorran la menor distancia posible**.\n",
    "\n",
    "**Con el objetivo de simplificar la práctica en evaluación continua, se asume que se cuenta con un único vehículo. No obstante, esto podría cambiar para la evaluación no continua.**\n",
    "\n",
    "---"
   ],
   "attachments":{
    
   },
   "metadata":{
    "datalore":{
     "node_id":"VUjcESa3hB27UoolAy19bi",
     "type":"MD",
     "hide_input_from_viewers":false,
     "hide_output_from_viewers":false,
     "report_properties":{
      
     }
    }
   }
  },
  {
   "cell_type":"markdown",
   "source":[
    "## 3. Desarrollo de la práctica\n",
    "\n",
    "Durante el desarrollo de la práctica se va a proporcionar un conjunto de mapas, sobre los cuáles se debe resolver el problema de optimización combinatoria correspondiente. Es importante destacar que la **dimensionalidad** del **problema** (número de ciudades, carreteras y paquetes) puede ser **variable**, por lo que los diferentes **algoritmos genéticos** deben ser lo suficientemente **eficientes** para que puedan **resolver** los **problemas** en un **tiempo razonable**.\n",
    "\n",
    "**Además, algunos escenarios se van a guardar para las entrevistas de prácticas, por lo que el código debe ser lo más general posible para cargarlos de manera rápida y sencilla.**"
   ],
   "attachments":{
    
   },
   "metadata":{
    "datalore":{
     "node_id":"VaoR74xcSrrxzA6B7LMu1h",
     "type":"MD",
     "hide_input_from_viewers":false,
     "hide_output_from_viewers":false,
     "report_properties":{
      
     }
    }
   }
  },
  {
   "cell_type":"markdown",
   "source":[
    "### 3.1. Entrada\n",
    "\n",
    "Cada escenario tendrá un fichero `.json` asociado con la siguiente estructura:\n",
    "\n",
    "```JSON\n",
    "{\n",
    "    \"map\": {\n",
    "        \"cities\": [\n",
    "            {\n",
    "                \"id\": id_city_0,\n",
    "                \"name\": name_city_0,\n",
    "                \"lat\": latitude_city_0,\n",
    "                \"lon\": longitude_city_0\n",
    "            }\n",
    "        ],\n",
    "        \"roads\": [\n",
    "            {\n",
    "                \"origin\": origin_city_id,\n",
    "                \"destination\": destination_city_id,\n",
    "                \"distance\": road_distance\n",
    "            }\n",
    "        ]\n",
    "    },\n",
    "    \"warehouse\": warehouse_city_id,\n",
    "    \"vehicles\": [\n",
    "        {\n",
    "            \"id\": id_vehicle_0,\n",
    "            \"capacity\": capacity_vehicle_0\n",
    "        }\n",
    "    ]\n",
    "    \"parcels\": [\n",
    "        {\n",
    "            \"id\": id_parcel_0,\n",
    "            \"city\": parcel_city_id,\n",
    "            \"weight\": weight_parcel_0\n",
    "        }\n",
    "    ]\n",
    "}\n",
    "```\n",
    "\n",
    "Hay cuatro elementos principales en el fichero:\n",
    "\n",
    "* `map`: Un diccionario con el mapa, cuya descripción es la misma que la de la primera práctica\n",
    "* `warehouse`: Identificador de la ciudad donde se encuentra la sede central\n",
    "* `vehicles`: Lista de vehículos disponibles\n",
    "* `parcels`: Lista de paquetes a recoger\n",
    "\n",
    "Por su parte, `vehicles` contiene:\n",
    "\n",
    "* `id`: Identificador del vehículo\n",
    "* `capacity`: Capacidad máxima del vehículo\n",
    "\n",
    "Y `parcels`:\n",
    "\n",
    "* `id`: Identificador del paquete\n",
    "* `city`: Ciudad donde se encuentra el paquete\n",
    "* `weight`: Peso del paquete\n",
    "\n",
    "**Para añadir los ficheros con los problemas al espacio de trabajo se debe usar el mismo procedimiento anterior.**\n",
    "\n",
    "---"
   ],
   "attachments":{
    
   },
   "metadata":{
    "datalore":{
     "node_id":"RdalgA654CeCiLVJnmgzSG",
     "type":"MD",
     "hide_input_from_viewers":false,
     "hide_output_from_viewers":false,
     "report_properties":{
      
     }
    }
   }
  },
  {
   "cell_type":"markdown",
   "source":[
    "## 4. Plan de trabajo"
   ],
   "attachments":{
    
   },
   "metadata":{
    "datalore":{
     "node_id":"na9BOnkud99hJxOfeujKUz",
     "type":"MD",
     "hide_input_from_viewers":false,
     "hide_output_from_viewers":false,
     "report_properties":{
      
     }
    }
   }
  },
  {
   "cell_type":"markdown",
   "source":[
    "### 4.1. Formalización del problema\n",
    "\n",
    "Para resolver cualquier problema de optimización combinatoria en primer lugar hay que definir como vamos a **codificar** las **soluciones** al problema. Si bien es algo que se deja a criterio propio, se plantea la siguiente pregunta, **¿cuál puede ser la mejor representación para una secuencia de paquetes a recoger?**\n",
    "\n",
    "Se puede comprobar si la respuesta es correcta introduciéndola en la variable `answer` del siguiente fragmento de código:"
   ],
   "attachments":{
    
   },
   "metadata":{
    "datalore":{
     "node_id":"sc77dYXhPZ9qeA1QczxZrP",
     "type":"MD",
     "hide_input_from_viewers":false,
     "hide_output_from_viewers":false,
     "report_properties":{
      
     }
    }
   }
  },
  {
   "cell_type":"code",
   "source":[
    "# Third party\n",
    "import hashlib"
   ],
   "execution_count":1,
   "outputs":[
    
   ],
   "metadata":{
    "datalore":{
     "node_id":"j1BykqU48Ypy9xgBokYE1i",
     "type":"CODE",
     "hide_input_from_viewers":false,
     "hide_output_from_viewers":false,
     "report_properties":{
      
     }
    }
   }
  },
  {
   "cell_type":"code",
   "source":[
    "check_answer = lambda answer, hashed: \"The answer is \" + (\"\" if hashlib.md5(answer).hexdigest() == hashed else \"in\") + \"correct.\""
   ],
   "execution_count":2,
   "outputs":[
    
   ],
   "metadata":{
    "datalore":{
     "node_id":"R6P7n9mZ1ABeZBiLexLh1L",
     "type":"CODE",
     "hide_input_from_viewers":false,
     "hide_output_from_viewers":false,
     "report_properties":{
      
     }
    }
   }
  },
  {
   "cell_type":"code",
   "source":[
    "# TODO: Introduce here the answer to use for the hashing\n",
    "answer = \"Hello\"\n",
    "\n",
    "# Avoid case sensitivity in the answer\n",
    "answer = str.lower(answer)\n",
    "\n",
    "# Encode the answer before hashing\n",
    "answer = answer.encode(\"utf-8\")\n",
    "\n",
    "hashed = \"90d377b31e1ac26d0d10d5612ce33ccc\"  # The hashed answer\n",
    "print(hashed)\n",
    "\n",
    "check_answer(answer, hashed)"
   ],
   "execution_count":3,
   "outputs":[
    {
     "name":"stdout",
     "text":[
      "90d377b31e1ac26d0d10d5612ce33ccc\n"
     ],
     "output_type":"stream"
    },
    {
     "data":{
      "text\/plain":[
       "'The answer is incorrect.'"
      ]
     },
     "metadata":{
      
     },
     "output_type":"display_data"
    }
   ],
   "metadata":{
    "datalore":{
     "node_id":"GEuGrWRDYI8a8IZrqij0KF",
     "type":"CODE",
     "hide_input_from_viewers":false,
     "hide_output_from_viewers":false,
     "report_properties":{
      
     }
    }
   }
  },
  {
   "cell_type":"markdown",
   "source":[
    "### 4.2. Implementación\n",
    "\n",
    "A continuación se proporciona la estructura de clases recomendada para resolver el problema en cuestión. Tendréis que completar las siguientes clases de acuerdo con los algoritmos estudiados en teoría. **Debéis incluir en la siguiente celda todas las librerías que vayáis a utilizar para mantener la libreta lo más organizada posible**:"
   ],
   "attachments":{
    
   },
   "metadata":{
    "datalore":{
     "node_id":"L1E7XRnlYRy7oEPYUIyWSS",
     "type":"MD",
     "hide_input_from_viewers":false,
     "hide_output_from_viewers":false,
     "report_properties":{
      
     }
    }
   }
  },
  {
   "cell_type":"code",
   "source":[
    "# TODO: Import here the libraries"
   ],
   "execution_count":4,
   "outputs":[
    
   ],
   "metadata":{
    "datalore":{
     "node_id":"62Rt8q8LpQ34afG23pb5F1",
     "type":"CODE",
     "hide_input_from_viewers":false,
     "hide_output_from_viewers":false,
     "report_properties":{
      
     }
    }
   }
  },
  {
   "cell_type":"markdown",
   "source":[
    "#### Clase `Individual`\n",
    "\n",
    "Esta clase proporciona la **codificación** de un **individuo** de la **población**.\n",
    "\n",
    "Los **métodos obligatorios** que se deben añadir son:\n",
    "\n",
    "* ``__init__(self, num_genes, generation_type, crossover_type, mutation_type)``: Inicializa el **número** de **genes** del **individuo** y el **tipo** de **operación** de **generación**, **cruce** y **mutación**. Ademas, genera la **solución** que **representa** el **individuo**.\n",
    "* ``generate(num_genes, generation_type)``: Método estático para **generar** una **solución** del tamaño proporcionado de acuerdo con el tipo de operación de generación.\n",
    "* ``crossover(self, individual)``: **Cruza** el **individuo actual** con el **individuo** de **entrada** de acuerdo con el tipo de operación de cruce.\n",
    "* ``mutation(self)``: **Muta** el **individuo** de acuerdo con el tipo de operación de mutación.\n",
    "* ``evaluate(self, problem)``: **Evalua** el **individuo** usando el **problema** a **resolver**.\n",
    "\n",
    "Y los **métodos recomendados** son:\n",
    "\n",
    "* ``__str__(self)``: **Representación** en formato de **cadena** de **caracteres** de un **individuo**. Método útil para depurar una lista de individuos.\n",
    "* ``__repr__(self)``: **Método** invocado cuando se ejecuta **``print``** sobre el **individuo**. Método útil para depurar un solo individuo."
   ],
   "attachments":{
    
   },
   "metadata":{
    "datalore":{
     "node_id":"ncEgrJcWJ52rHsjy80qESR",
     "type":"MD",
     "hide_input_from_viewers":false,
     "hide_output_from_viewers":false,
     "report_properties":{
      
     }
    }
   }
  },
  {
   "cell_type":"code",
   "source":[
    "class Individual:\n",
    "\n",
    "    # =============================================================================\n",
    "    # Constructor\n",
    "    # =============================================================================\n",
    "\n",
    "    # TODO: Code here the constructor\n",
    "\n",
    "    # =============================================================================\n",
    "    # Mandatory methods\n",
    "    # =============================================================================\n",
    "\n",
    "    # TODO: Code here the mandatory methods\n",
    "\n",
    "    # =============================================================================\n",
    "    # Recommended methods\n",
    "    # =============================================================================\n",
    "    \n",
    "    # TODO: Code here the recommended methods\n",
    "\n",
    "    pass"
   ],
   "execution_count":5,
   "outputs":[
    
   ],
   "metadata":{
    "datalore":{
     "node_id":"HAgyUGxYcoG2LaYD1ZRqHt",
     "type":"CODE",
     "hide_input_from_viewers":false,
     "hide_output_from_viewers":false,
     "report_properties":{
      
     }
    }
   }
  },
  {
   "cell_type":"markdown",
   "source":[
    "**Se recomienda que se prueben cada uno de los métodos implementados de manera individual en las siguientes líneas de código:**"
   ],
   "attachments":{
    
   },
   "metadata":{
    "datalore":{
     "node_id":"A0rGuLg30jplx5Z8rYbJHu",
     "type":"MD",
     "hide_input_from_viewers":false,
     "hide_output_from_viewers":false,
     "report_properties":{
      
     }
    }
   }
  },
  {
   "cell_type":"code",
   "source":[
    "# TODO: Test here the methods to generate a solution"
   ],
   "execution_count":6,
   "outputs":[
    
   ],
   "metadata":{
    "datalore":{
     "node_id":"qMhdHZ0KvcH5mkP3JE2fYT",
     "type":"CODE",
     "hide_input_from_viewers":false,
     "hide_output_from_viewers":false,
     "report_properties":{
      
     }
    }
   }
  },
  {
   "cell_type":"code",
   "source":[
    "# TODO: Test here the methods to cross individuals"
   ],
   "execution_count":7,
   "outputs":[
    
   ],
   "metadata":{
    "datalore":{
     "node_id":"bWBCdnWzydSIDitJpwMkIa",
     "type":"CODE",
     "hide_input_from_viewers":false,
     "hide_output_from_viewers":false,
     "report_properties":{
      
     }
    }
   }
  },
  {
   "cell_type":"code",
   "source":[
    "# TODO: Test here the methods to mutate an individual"
   ],
   "execution_count":8,
   "outputs":[
    
   ],
   "metadata":{
    "datalore":{
     "node_id":"x4M7L4sUaPct7Oil7r5Ar3",
     "type":"CODE",
     "hide_input_from_viewers":false,
     "hide_output_from_viewers":false,
     "report_properties":{
      
     }
    }
   }
  },
  {
   "cell_type":"markdown",
   "source":[
    "#### Clase `Genetic`\n",
    "\n",
    "Esta clase implementa un **esquema** básico de **algoritmo genético**.\n",
    "\n",
    "Los **métodos obligatorios** que se deben añadir son:\n",
    "\n",
    "* ``def __init__(self, population_size, num_generations, selection_type, crossover_type, crossover_probability, mutation_type, mutation_probability, keep_elitism, random_state)``: Inicializa el **tamaño** de la **población**, el **tipo** de **operación** de **selección**, **cruce**, y **mutación**, así como la **probabilidad** de aplicar las operaciones de **cruce** y **mutación**. Además, también inicializa el **número** de **mejores soluciones** de la **población actual** que se **mantienen** en la **siguiente población** y una **semilla** para garantizar que los **experimentos** son **reproducibles**. **Nótese que puede ser necesario añadir más argumentos si así se requiere**.\n",
    "* ``def __call__(self, problem)``: **Método** que se **ejecuta** cuando se llama a un **objeto** de la **clase como** si fuese una **función**. En este **método** se debe **implementar** el **esquema básico** de un **algoritmo genético** que se encargue de ejecutar los pasos correspondientes. \n",
    "* ``def generate_population(self, problem)``: **Genera** la **población inicial** de acuerdo con el **problema** a resolver.\n",
    "* ``def select_population(self, population, scores)``: **Selecciona** los **padres** a utilizar para la operación de cruce.\n",
    "* ``def crossover(self, population)``: **Cruza pares** de **padres** teniendo en cuenta la probabilidad de cruce.\n",
    "* ``def mutation(self, population)``: **Muta** los **individuos cruzados** teniendo en cuenta la probabilidad de mutación.\n",
    "* ``def evaluate(self, population, problem)``: **Evalua** los **nuevos individuos** de acuerdo con el problema a resolver.\n",
    "* ``def combine(self, population)``: **Forma** la **nueva generación** de acuerdo con el número de mejores individuos de la población actual a mantener en la siguiente."
   ],
   "attachments":{
    
   },
   "metadata":{
    "datalore":{
     "node_id":"QJydvpXQMeNKKbSRF67cMB",
     "type":"MD",
     "hide_input_from_viewers":false,
     "hide_output_from_viewers":false,
     "report_properties":{
      
     }
    }
   }
  },
  {
   "cell_type":"code",
   "source":[
    "class Genetic:\n",
    "\n",
    "    # =============================================================================\n",
    "    # Constructor\n",
    "    # =============================================================================\n",
    "\n",
    "    # TODO: Code here the constructor\n",
    "\n",
    "    # =============================================================================\n",
    "    # Mandatory methods\n",
    "    # =============================================================================\n",
    "\n",
    "    # TODO: Code here the mandatory methods\n",
    "\n",
    "    pass"
   ],
   "execution_count":9,
   "outputs":[
    
   ],
   "metadata":{
    "datalore":{
     "node_id":"RLvvdUCS6ybKqAdMohihW7",
     "type":"CODE",
     "hide_input_from_viewers":false,
     "hide_output_from_viewers":false,
     "report_properties":{
      
     }
    }
   }
  },
  {
   "cell_type":"markdown",
   "source":[
    "**Se recomienda que se prueben cada uno de los métodos implementados de manera individual en las siguientes líneas de código:**"
   ],
   "attachments":{
    
   },
   "metadata":{
    "datalore":{
     "node_id":"gbmyb1Y7HDt8hj3HbK4pyg",
     "type":"MD",
     "hide_input_from_viewers":false,
     "hide_output_from_viewers":false,
     "report_properties":{
      
     }
    }
   }
  },
  {
   "cell_type":"code",
   "source":[
    "# TODO: Test here the methods to generate a population"
   ],
   "execution_count":10,
   "outputs":[
    
   ],
   "metadata":{
    "datalore":{
     "node_id":"FOi9zMZg3wyLatmKT78I1V",
     "type":"CODE",
     "hide_input_from_viewers":false,
     "hide_output_from_viewers":false,
     "report_properties":{
      
     }
    }
   }
  },
  {
   "cell_type":"code",
   "source":[
    "# TODO: Test here the methods to select individuals"
   ],
   "execution_count":11,
   "outputs":[
    
   ],
   "metadata":{
    "datalore":{
     "node_id":"GyAO00SfnmWSXlRQCsyvkf",
     "type":"CODE",
     "hide_input_from_viewers":false,
     "hide_output_from_viewers":false,
     "report_properties":{
      
     }
    }
   }
  },
  {
   "cell_type":"code",
   "source":[
    "# TODO: Test here the methods to combine populations"
   ],
   "execution_count":12,
   "outputs":[
    
   ],
   "metadata":{
    "datalore":{
     "node_id":"kcU1A7LoOYqfSb3JXLcIE9",
     "type":"CODE",
     "hide_input_from_viewers":false,
     "hide_output_from_viewers":false,
     "report_properties":{
      
     }
    }
   }
  },
  {
   "cell_type":"markdown",
   "source":[
    "#### Clase `CVRP`\n",
    "\n",
    "Esta clase representa el problema en cuestión, esto es, el **problema** de **ruteo** de **vehículos**.\n",
    "\n",
    "Los **métodos obligatorios** que se deben añadir son:\n",
    "\n",
    "* ``def __init__(self, filename, algorithm)``: Inicializa el **problema** en cuestión y el **algoritmo** a usar para resolverlo. A su vez, se debe crear un **diccionario** que contenga como **clave** un **identificador** de **paquete** y como **valor** una **tupla** con la **ciudad** donde se encuentra dicho paquete y su **peso**.\n",
    "* ``def __call__(self)``: **Resuelve** el **problema** en cuestión.\n",
    "* ``def evaluate(self, solution)``: **Evalua** una **solución** para el **problema** en cuestión, **teniendo en cuenta** las **restricciones correspondientes**.\n",
    "* ``def search(self, departure, goal)``: **Resuelve** un **problema** de **búsqueda** de **caminos** dada las **ciudades** de **salida** y **meta**.\n",
    "\n",
    "**Nótese que se puede crear una estructura de datos para agilizar el proceso de búsqueda de caminos requerido por el algoritmo ¿cuál puede ser?**"
   ],
   "attachments":{
    
   },
   "metadata":{
    "datalore":{
     "node_id":"ABJANTvB3nbrdRJJ6xfmXo",
     "type":"MD",
     "hide_input_from_viewers":false,
     "hide_output_from_viewers":false,
     "report_properties":{
      
     }
    }
   }
  },
  {
   "cell_type":"code",
   "source":[
    "# TODO: Introduce here the answer to use for the hashing\n",
    "answer = \"Hello\"\n",
    "\n",
    "# Avoid case sensitivity in the answer\n",
    "answer = str.lower(answer)\n",
    "\n",
    "# Encode the answer before hashing\n",
    "answer = answer.encode(\"utf-8\")\n",
    "\n",
    "encoded = \"0fea6a13c52b4d4725368f24b045ca84\"  # The hashed answer\n",
    "print(encoded)\n",
    "\n",
    "check_answer(answer, encoded)"
   ],
   "execution_count":13,
   "outputs":[
    {
     "name":"stdout",
     "text":[
      "0fea6a13c52b4d4725368f24b045ca84\n"
     ],
     "output_type":"stream"
    },
    {
     "data":{
      "text\/plain":[
       "'The answer is incorrect.'"
      ]
     },
     "metadata":{
      
     },
     "output_type":"display_data"
    }
   ],
   "metadata":{
    "datalore":{
     "node_id":"skolk6M2LsHFH7WW5vxnAD",
     "type":"CODE",
     "hide_input_from_viewers":false,
     "hide_output_from_viewers":false,
     "report_properties":{
      
     }
    }
   }
  },
  {
   "cell_type":"code",
   "source":[
    "class CVRP:\n",
    "\n",
    "    # =============================================================================\n",
    "    # Constructor\n",
    "    # =============================================================================\n",
    "\n",
    "    # TODO: Code here the constructor\n",
    "\n",
    "    # =============================================================================\n",
    "    # Mandatory methods\n",
    "    # =============================================================================\n",
    "\n",
    "    # TODO: Code here the mandatory methods\n",
    "\n",
    "    pass"
   ],
   "execution_count":14,
   "outputs":[
    
   ],
   "metadata":{
    "datalore":{
     "node_id":"dKLgpxk5uGiulUFQQ1dKB2",
     "type":"CODE",
     "hide_input_from_viewers":false,
     "hide_output_from_viewers":false,
     "report_properties":{
      
     }
    }
   }
  },
  {
   "cell_type":"markdown",
   "source":[
    "**Se recomienda que se prueben cada uno de los métodos implementados de manera individual en las siguientes líneas de código:**"
   ],
   "attachments":{
    
   },
   "metadata":{
    "datalore":{
     "node_id":"llGypZPWDhZRcvtvII4bZA",
     "type":"MD",
     "hide_input_from_viewers":true,
     "hide_output_from_viewers":true
    }
   }
  },
  {
   "cell_type":"code",
   "source":[
    "# TODO: Test here the method to initialize the capacited vehicle routing problem"
   ],
   "execution_count":15,
   "outputs":[
    
   ],
   "metadata":{
    "datalore":{
     "node_id":"Bia29BOdqugjIaMw09HJYE",
     "type":"CODE",
     "hide_input_from_viewers":false,
     "hide_output_from_viewers":false,
     "report_properties":{
      
     }
    }
   }
  },
  {
   "cell_type":"code",
   "source":[
    "# TODO: Test here the method to solve the search problem"
   ],
   "execution_count":16,
   "outputs":[
    
   ],
   "metadata":{
    "datalore":{
     "node_id":"DBniyKLSb6eBHrDuRwsqyV",
     "type":"CODE",
     "hide_input_from_viewers":false,
     "hide_output_from_viewers":false,
     "report_properties":{
      
     }
    }
   }
  },
  {
   "cell_type":"code",
   "source":[
    "# TODO: Test here the method to solve the capacited vehicle routing problem"
   ],
   "execution_count":17,
   "outputs":[
    
   ],
   "metadata":{
    "datalore":{
     "node_id":"cy404oaoVQkMmldm92K5Sd",
     "type":"CODE",
     "hide_input_from_viewers":false,
     "hide_output_from_viewers":false,
     "report_properties":{
      
     }
    }
   }
  },
  {
   "cell_type":"markdown",
   "source":[
    "### 4.3. Estudio y mejora de los algoritmos\n",
    "\n",
    "Una vez que los algoritmos han sido implementados, se debe **estudiar** su **rendimiento**. Para ello, se debe comparar la **calidad** de las **soluciones obtenidas**, así como las **diferentes estadísticas** que se consideren adecuadas (número de generaciones, tiempo de ejecución, etc.). Factores como el tamaño máximo del problema que se soporta sin un error de memoria, así como el efecto temporal de usar escenarios más complejos son otros factores a tener en cuenta. Además, se **pueden proponer** y se valorarán la incorporación de **técnicas** que **permitan acelerar** la **ejecución** de los **algoritmos**.\n",
    "\n",
    "---"
   ],
   "attachments":{
    
   },
   "metadata":{
    "datalore":{
     "node_id":"FzMRpxidPP2TpHDaxpFsp1",
     "type":"MD",
     "hide_input_from_viewers":false,
     "hide_output_from_viewers":false,
     "report_properties":{
      
     }
    }
   }
  },
  {
   "cell_type":"code",
   "source":[
    "# TODO: Experiment here with the small problem"
   ],
   "execution_count":18,
   "outputs":[
    
   ],
   "metadata":{
    "datalore":{
     "node_id":"2VfPCt6k4D9scIvVlHIlAy",
     "type":"CODE",
     "hide_input_from_viewers":false,
     "hide_output_from_viewers":false,
     "report_properties":{
      
     }
    }
   }
  },
  {
   "cell_type":"code",
   "source":[
    "# TODO: Experiment here with the medium problem"
   ],
   "execution_count":19,
   "outputs":[
    
   ],
   "metadata":{
    "datalore":{
     "node_id":"vbIvLP0J25a0mC8t9d9SSk",
     "type":"CODE",
     "hide_input_from_viewers":false,
     "hide_output_from_viewers":false,
     "report_properties":{
      
     }
    }
   }
  },
  {
   "cell_type":"code",
   "source":[
    "# TODO: Experiment here with the large problem"
   ],
   "execution_count":20,
   "outputs":[
    
   ],
   "metadata":{
    "datalore":{
     "node_id":"4OvQrZI7jUXlqorMzjpEK8",
     "type":"CODE",
     "hide_input_from_viewers":false,
     "hide_output_from_viewers":false,
     "report_properties":{
      
     }
    }
   }
  },
  {
   "cell_type":"markdown",
   "source":[
    "### 5. Entrega y evaluación\n",
    "\n",
    "Al igual que la práctica anterior, esta se debe **hacer en pares**. No obstante, en **casos excepcionales** se permite realizarla **individualmente**. **La fecha límite para subir la práctica es el 18 de diciembre de 2022 a las 23:55**. Las **entrevistas y evaluaciones** se realizarán la **semana siguiente**.\n",
    "\n",
    "Algunas consideraciones:\n",
    "\n",
    "* **En caso de que no se haya entregado la primera práctica, o se haya sacado menos de un cuatro, se podrán entregar conjuntamente en esta fecha. No obstante, se considerará únicamente un 90% de la nota global de prácticas**.\n",
    "* Está práctica supone el **70%** de la **nota** en este apartado.\n",
    "* La práctica se **evaluará** mediante una **entrevista individual** con el profesorado. Las fechas de las entrevistas se publicarán con antelación.\n",
    "*  Se proporcionará un **conjunto** de **casos** de **prueba preliminares** (varios mapas e instancias) que se **deben resolver correctamente**. En caso contrario, la práctica se considerará suspensa.\n",
    "* La **entrevista** consistirá en una serie de **preguntas** acerca del **código**.\n",
    "\n",
    "**Por último, para la evaluación no continua se requirirá la implementación del algoritmo de búsqueda por ascenso de colinas. Además, este se deberá utilizar para inicializar la población del algoritmo genético, en lugar de que sea aleatoria.**"
   ],
   "attachments":{
    
   },
   "metadata":{
    "datalore":{
     "node_id":"1gMr8LgttqSXYAOdmeHNSm",
     "type":"MD",
     "hide_input_from_viewers":false,
     "hide_output_from_viewers":false,
     "report_properties":{
      
     }
    }
   }
  }
 ],
 "metadata":{
  "kernelspec":{
   "display_name":"Python",
   "language":"python",
   "name":"python"
  },
  "datalore":{
   "version":1,
   "computation_mode":"JUPYTER",
   "package_manager":"pip",
   "base_environment":"default",
   "packages":[
    {
     "name":"pqueue",
     "version":"0.1.7",
     "source":"PIP"
    },
    {
     "name":"geopy",
     "version":"2.2.0",
     "source":"PIP"
    }
   ]
  }
 },
 "nbformat":4,
 "nbformat_minor":4
}